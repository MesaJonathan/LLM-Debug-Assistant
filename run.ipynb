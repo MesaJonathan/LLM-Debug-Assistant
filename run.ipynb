{
 "cells": [
  {
   "cell_type": "code",
   "execution_count": 1,
   "metadata": {},
   "outputs": [],
   "source": [
    "from transformers import pipeline"
   ]
  },
  {
   "cell_type": "code",
   "execution_count": 2,
   "metadata": {},
   "outputs": [],
   "source": [
    "model_name = \"bgsmagnuson/tiny-llama-code-feedback\""
   ]
  },
  {
   "cell_type": "code",
   "execution_count": 3,
   "metadata": {},
   "outputs": [],
   "source": [
    "generator = pipeline(\"text-generation\", model=model_name)"
   ]
  },
  {
   "cell_type": "code",
   "execution_count": 7,
   "metadata": {},
   "outputs": [],
   "source": [
    "messages = [\n",
    "    {\n",
    "        \"role\": \"user\",\n",
    "        \"content\": \"Loop through an array in Java\"\n",
    "    }\n",
    "]"
   ]
  },
  {
   "cell_type": "code",
   "execution_count": 8,
   "metadata": {},
   "outputs": [],
   "source": [
    "# prompt = \"How do you print 'Hello, World!' in Java?\"\n",
    "prompt = generator.tokenizer.apply_chat_template(messages, tokenize=False, add_generation_prompt=False)"
   ]
  },
  {
   "cell_type": "code",
   "execution_count": 9,
   "metadata": {},
   "outputs": [
    {
     "name": "stdout",
     "output_type": "stream",
     "text": [
      "<|user|>\n",
      "Loop through an array in Java</s>\n",
      "<|assistant|>\n",
      "Yes, you can loop through an array in Java using the for loop. Here's an example:\n",
      "\n",
      "```java\n",
      "int[] numbers = {1, 2, 3, 4, 5};\n",
      "\n",
      "for (int number : numbers) {\n",
      "    System.out.println(number);\n",
      "}\n",
      "```\n",
      "\n",
      "This code will print out the numbers in the array, one by one.\n",
      "\n",
      "You can also use the for loop to iterate over a range of numbers, such as from 0 to 10:\n",
      "\n",
      "```java\n",
      "int[] numbers = {0, 1, 2, 3, 4, 5, 6, 7, 8, 9, 10};\n",
      "\n",
      "for (int number : numbers) {\n",
      "    System.out.println(number);\n",
      "}\n",
      "```\n",
      "\n",
      "This code will print out each number in the array, starting from 0 and ending at 10.\n",
      "\n",
      "You can also use the for loop to iterate over a range of numbers, and perform some action on each iteration:\n",
      "\n",
      "```java\n",
      "int[] numbers = {0, 1, 2, 3, 4, 5, 6, 7, 8, 9, 10};\n",
      "\n",
      "for (int number : numbers) {\n",
      "    if (number % 2 == 0) {\n",
      "        System.out.println(number);\n",
      "    }\n",
      "}\n",
      "```\n",
      "\n",
      "This code will print out each even number in the array, starting from 0 and ending at 8.\n",
      "\n",
      "You can also use the for loop to iterate over a range of numbers, and perform some action on each iteration, and then update a variable based on the result:\n",
      "\n",
      "```java\n",
      "int[] numbers = {0, 1, 2, 3, 4, 5, 6, 7, 8, 9, 10};\n",
      "\n",
      "int sum = 0;\n",
      "\n",
      "for (int number : numbers) {\n",
      "    sum += number;\n",
      "}\n",
      "\n",
      "System.out.println(\"The sum of the even numbers in the array is: \" + sum);\n",
      "```\n",
      "\n",
      "This code will print out the sum of the even numbers\n"
     ]
    }
   ],
   "source": [
    "generated_text = generator(prompt, max_length=500)[0][\"generated_text\"]\n",
    "print(generated_text)"
   ]
  },
  {
   "cell_type": "markdown",
   "metadata": {},
   "source": []
  }
 ],
 "metadata": {
  "kernelspec": {
   "display_name": "venv",
   "language": "python",
   "name": "python3"
  },
  "language_info": {
   "codemirror_mode": {
    "name": "ipython",
    "version": 3
   },
   "file_extension": ".py",
   "mimetype": "text/x-python",
   "name": "python",
   "nbconvert_exporter": "python",
   "pygments_lexer": "ipython3",
   "version": "3.10.12"
  }
 },
 "nbformat": 4,
 "nbformat_minor": 2
}
