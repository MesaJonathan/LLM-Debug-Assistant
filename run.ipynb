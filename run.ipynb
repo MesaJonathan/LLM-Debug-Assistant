{
 "cells": [
  {
   "cell_type": "code",
   "execution_count": 1,
   "metadata": {},
   "outputs": [],
   "source": [
    "from transformers import pipeline"
   ]
  },
  {
   "cell_type": "code",
   "execution_count": 2,
   "metadata": {},
   "outputs": [],
   "source": [
    "model_name = \"bgsmagnuson/tiny-llama-stack-overflow\""
   ]
  },
  {
   "cell_type": "code",
   "execution_count": 3,
   "metadata": {},
   "outputs": [
    {
     "data": {
      "application/vnd.jupyter.widget-view+json": {
       "model_id": "0e683858e158468fa9b1dce2ee07d9e7",
       "version_major": 2,
       "version_minor": 0
      },
      "text/plain": [
       "adapter_config.json:   0%|          | 0.00/659 [00:00<?, ?B/s]"
      ]
     },
     "metadata": {},
     "output_type": "display_data"
    }
   ],
   "source": [
    "generator = pipeline(\"text-generation\", model=model_name)"
   ]
  },
  {
   "cell_type": "code",
   "execution_count": 4,
   "metadata": {},
   "outputs": [],
   "source": [
    "prompt = \"How do I loop through an array in C?\""
   ]
  },
  {
   "cell_type": "code",
   "execution_count": 7,
   "metadata": {},
   "outputs": [
    {
     "name": "stdout",
     "output_type": "stream",
     "text": [
      "<s>[INST] How do I loop through an array in C? [/INST]\n",
      "\n",
      "I'm not able to provide you with a specific example, but I can give you an overview of how to loop through an array in C.\n",
      "\n",
      "1. Declare an array:\n",
      "\n",
      "```c\n",
      "int arr[5] = {1, 2, 3, 4, 5};\n",
      "```\n",
      "\n",
      "2. Initialize the array:\n",
      "\n",
      "```c\n",
      "int i;\n",
      "for (i = 0; i < 5; i++) {\n",
      "    printf(\"%d \", arr[i]);\n",
      "}\n",
      "```\n",
      "\n",
      "3. Print the array:\n",
      "\n",
      "```c\n",
      "printf(\"\\n\");\n",
      "for (i = 0; i < 5; i++) {\n",
      "    printf(\"%d \", arr[i]);\n",
      "}\n",
      "```\n",
      "\n",
      "4. Add a new element to the array:\n",
      "\n",
      "```c\n",
      "arr[4] = 6;\n",
      "```\n",
      "\n",
      "5. Print the updated array:\n",
      "\n",
      "```c\n",
      "printf(\"\\n\");\n",
      "for (i = 0; i < 5; i++) {\n",
      "    printf(\"%d \", arr[i]);\n",
      "}\n",
      "```\n",
      "\n",
      "6. Remove an element from the array:\n",
      "\n",
      "```c\n",
      "arr[3] = 7;\n",
      "```\n",
      "\n",
      "7. Print the updated array:\n",
      "\n",
      "```c\n",
      "printf(\"\\n\");\n",
      "for (i = 0; i < 5; i++) {\n",
      "    printf(\"%d \", arr[i]);\n",
      "}\n",
      "```\n",
      "\n",
      "I hope this helps! Let me know if you have any further questions.\n"
     ]
    }
   ],
   "source": [
    "generated_text = generator(f\"<s>[INST] {prompt} [/INST]\", max_length=500)[0][\"generated_text\"]\n",
    "print(generated_text)"
   ]
  }
 ],
 "metadata": {
  "kernelspec": {
   "display_name": "venv",
   "language": "python",
   "name": "python3"
  },
  "language_info": {
   "codemirror_mode": {
    "name": "ipython",
    "version": 3
   },
   "file_extension": ".py",
   "mimetype": "text/x-python",
   "name": "python",
   "nbconvert_exporter": "python",
   "pygments_lexer": "ipython3",
   "version": "3.10.12"
  }
 },
 "nbformat": 4,
 "nbformat_minor": 2
}
