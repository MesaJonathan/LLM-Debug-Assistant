{
 "cells": [
  {
   "cell_type": "code",
   "execution_count": 1,
   "metadata": {},
   "outputs": [],
   "source": [
    "from transformers import pipeline"
   ]
  },
  {
   "cell_type": "code",
   "execution_count": 2,
   "metadata": {},
   "outputs": [],
   "source": [
    "model_name = \"bgsmagnuson/tiny-llama-code-feedback\""
   ]
  },
  {
   "cell_type": "code",
   "execution_count": 3,
   "metadata": {},
   "outputs": [
    {
     "data": {
      "application/vnd.jupyter.widget-view+json": {
       "model_id": "679c4077f86e455ab719691f9520cef1",
       "version_major": 2,
       "version_minor": 0
      },
      "text/plain": [
       "adapter_config.json:   0%|          | 0.00/659 [00:00<?, ?B/s]"
      ]
     },
     "metadata": {},
     "output_type": "display_data"
    }
   ],
   "source": [
    "generator = pipeline(\"text-generation\", model=model_name)"
   ]
  },
  {
   "cell_type": "code",
   "execution_count": 6,
   "metadata": {},
   "outputs": [],
   "source": [
    "prompt = \"How do I loop through an array in Python?\""
   ]
  },
  {
   "cell_type": "code",
   "execution_count": 7,
   "metadata": {},
   "outputs": [
    {
     "name": "stdout",
     "output_type": "stream",
     "text": [
      "<s>[INST] How do I loop through an array in Python? [/INST]\n",
      "\n",
      "I'm not sure if you're asking about a specific array or a general loop, but here's an example of how to loop through an array in Python:\n",
      "\n",
      "```python\n",
      "# Example array: [1, 2, 3, 4, 5]\n",
      "arr = [1, 2, 3, 4, 5]\n",
      "\n",
      "# Loop through the array\n",
      "for num in arr:\n",
      "    print(num)\n",
      "```\n",
      "\n",
      "In this example, we're using the `for` loop to iterate through the array `arr`. Inside the loop, we're printing out each element of the array using the `print` function.\n",
      "\n",
      "You can also use the `range()` function to generate a sequence of numbers:\n",
      "\n",
      "```python\n",
      "# Example range function\n",
      "range_arr = range(1, 6)\n",
      "\n",
      "# Loop through the range\n",
      "for num in range_arr:\n",
      "    print(num)\n",
      "```\n",
      "\n",
      "In this example, we're using the `range()` function to generate a sequence of numbers from 1 to 5. Inside the loop, we're printing out each element of the range using the `print` function.\n",
      "\n",
      "I hope that helps! Let me know if you have any other questions.\n"
     ]
    }
   ],
   "source": [
    "generated_text = generator(f\"<s>[INST] {prompt} [/INST]\", max_length=500)[0][\"generated_text\"]\n",
    "print(generated_text)"
   ]
  }
 ],
 "metadata": {
  "kernelspec": {
   "display_name": "venv",
   "language": "python",
   "name": "python3"
  },
  "language_info": {
   "codemirror_mode": {
    "name": "ipython",
    "version": 3
   },
   "file_extension": ".py",
   "mimetype": "text/x-python",
   "name": "python",
   "nbconvert_exporter": "python",
   "pygments_lexer": "ipython3",
   "version": "3.10.12"
  }
 },
 "nbformat": 4,
 "nbformat_minor": 2
}
