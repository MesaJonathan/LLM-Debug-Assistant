{
 "cells": [
  {
   "cell_type": "code",
   "execution_count": 1,
   "metadata": {
    "id": "puZgvM8r0aJx",
    "outputId": "ebdb2225-aa01-4a30-9994-e9c186c69751",
    "colab": {
     "base_uri": "https://localhost:8080/"
    },
    "ExecuteTime": {
     "end_time": "2024-03-28T21:29:07.974342Z",
     "start_time": "2024-03-28T21:29:07.858237Z"
    }
   },
   "outputs": [
    {
     "name": "stdout",
     "output_type": "stream",
     "text": [
      "/Users/mesa/Coding Projects/LLM-Debug-Assistant/venv/bin/python\r\n"
     ]
    }
   ],
   "source": [
    "!which python"
   ]
  },
  {
   "cell_type": "code",
   "execution_count": 2,
   "metadata": {
    "id": "q2oqmolk0aJy",
    "outputId": "cb64edb7-c4ab-463a-b885-af80fe45d534",
    "colab": {
     "base_uri": "https://localhost:8080/"
    },
    "ExecuteTime": {
     "end_time": "2024-03-28T21:29:19.649541Z",
     "start_time": "2024-03-28T21:29:10.888016Z"
    }
   },
   "outputs": [
    {
     "name": "stderr",
     "output_type": "stream",
     "text": [
      "/Users/mesa/Coding Projects/LLM-Debug-Assistant/venv/lib/python3.9/site-packages/urllib3/__init__.py:35: NotOpenSSLWarning: urllib3 v2 only supports OpenSSL 1.1.1+, currently the 'ssl' module is compiled with 'LibreSSL 2.8.3'. See: https://github.com/urllib3/urllib3/issues/3020\n",
      "  warnings.warn(\n"
     ]
    },
    {
     "name": "stdout",
     "output_type": "stream",
     "text": [
      "'NoneType' object has no attribute 'cadam32bit_grad_fp32'\n"
     ]
    },
    {
     "name": "stderr",
     "output_type": "stream",
     "text": [
      "/Users/mesa/Coding Projects/LLM-Debug-Assistant/venv/lib/python3.9/site-packages/bitsandbytes/cextension.py:34: UserWarning: The installed version of bitsandbytes was compiled without GPU support. 8-bit optimizers, 8-bit multiplication, and GPU quantization are unavailable.\n",
      "  warn(\"The installed version of bitsandbytes was compiled without GPU support. \"\n"
     ]
    }
   ],
   "source": [
    "import os\n",
    "import torch\n",
    "from datasets import load_dataset\n",
    "from transformers import (\n",
    "    AutoModelForCausalLM,\n",
    "    AutoTokenizer,\n",
    "    BitsAndBytesConfig,\n",
    "    TrainingArguments,\n",
    "    pipeline,\n",
    "    logging,\n",
    ")\n",
    "from peft import LoraConfig\n",
    "from trl import SFTTrainer"
   ]
  },
  {
   "cell_type": "code",
   "execution_count": 3,
   "metadata": {
    "id": "6Oi4Ha2-0aJy",
    "ExecuteTime": {
     "end_time": "2024-03-28T21:29:25.164980Z",
     "start_time": "2024-03-28T21:29:25.162262Z"
    }
   },
   "outputs": [],
   "source": [
    "# Model from Hugging Face hub\n",
    "base_model = \"NousResearch/Llama-2-7b-chat-hf\"\n",
    "\n",
    "# New instruction dataset\n",
    "stack_overflow_dataset = \"Mxode/StackOverflow-QA-C-Language-5k\"\n",
    "\n",
    "# Fine-tuned model\n",
    "new_model = \"llama-2-7b-chat-stack-overflow\""
   ]
  },
  {
   "cell_type": "code",
   "execution_count": 4,
   "metadata": {
    "id": "wai6lzT70aJy",
    "outputId": "5091ae8d-a46e-4a48-d04e-2ddf1c5c478e",
    "colab": {
     "base_uri": "https://localhost:8080/"
    },
    "ExecuteTime": {
     "end_time": "2024-03-28T21:29:28.447184Z",
     "start_time": "2024-03-28T21:29:26.864475Z"
    }
   },
   "outputs": [],
   "source": [
    "dataset = load_dataset(stack_overflow_dataset, split=\"train\")"
   ]
  },
  {
   "cell_type": "code",
   "execution_count": 5,
   "metadata": {
    "id": "-TEmF43d0aJy",
    "ExecuteTime": {
     "end_time": "2024-03-28T21:29:30.803063Z",
     "start_time": "2024-03-28T21:29:30.797148Z"
    }
   },
   "outputs": [],
   "source": [
    "# dataset currently has 'question' and 'answer' columns. We need to combine them into a single column named 'text'\n",
    "dataset = dataset.map(\n",
    "    lambda examples: {\n",
    "        \"text\": \"<s>[INST]\" + examples[\"question\"] + \"[\\INST] \" + examples[\"answer\"] + \"</s>\",\n",
    "    }\n",
    ")"
   ]
  },
  {
   "cell_type": "code",
   "execution_count": 8,
   "metadata": {
    "id": "7-ZugjQP0aJy",
    "ExecuteTime": {
     "end_time": "2024-03-28T22:29:13.445909Z",
     "start_time": "2024-03-28T22:29:13.441420Z"
    }
   },
   "outputs": [],
   "source": [
    "compute_dtype = getattr(torch, \"float16\")\n",
    "\n",
    "quant_config = BitsAndBytesConfig(\n",
    "    load_in_4bit=True,\n",
    "    bnb_4bit_quant_type=\"nf4\",\n",
    "    bnb_4bit_compute_dtype=compute_dtype,\n",
    "    bnb_4bit_use_double_quant=False,\n",
    ")"
   ]
  },
  {
   "cell_type": "code",
   "execution_count": 9,
   "metadata": {
    "id": "9mYfPPTa0aJy",
    "outputId": "ba5c8d93-38a6-40f6-e3ea-be54080b6a07",
    "colab": {
     "base_uri": "https://localhost:8080/",
     "height": 560
    },
    "ExecuteTime": {
     "end_time": "2024-03-28T22:29:36.575885Z",
     "start_time": "2024-03-28T22:29:14.524764Z"
    }
   },
   "outputs": [
    {
     "data": {
      "text/plain": "Loading checkpoint shards:   0%|          | 0/2 [00:00<?, ?it/s]",
      "application/vnd.jupyter.widget-view+json": {
       "version_major": 2,
       "version_minor": 0,
       "model_id": "20968bd07756462c89b0c871dfa5c954"
      }
     },
     "metadata": {},
     "output_type": "display_data"
    }
   ],
   "source": [
    "#!pip install accelerate\n",
    "\n",
    "model = AutoModelForCausalLM.from_pretrained(\n",
    "    base_model,\n",
    "    torch_dtype=torch.float16,\n",
    "    #low_cpu_mem_usage=True,\n",
    "    # quantization_config=quant_config,\n",
    "    # device_map={\"\": 0}\n",
    ")\n",
    "model.config.use_cache = False\n",
    "model.config.pretraining_tp = 1"
   ]
  },
  {
   "cell_type": "code",
   "execution_count": 11,
   "metadata": {
    "id": "RiWsACS60aJy",
    "ExecuteTime": {
     "end_time": "2024-03-28T22:31:04.898907Z",
     "start_time": "2024-03-28T22:31:03.786541Z"
    }
   },
   "outputs": [
    {
     "data": {
      "text/plain": "tokenizer.model:   0%|          | 0.00/500k [00:00<?, ?B/s]",
      "application/vnd.jupyter.widget-view+json": {
       "version_major": 2,
       "version_minor": 0,
       "model_id": "af960e44e86647a3be06e8cfd5ac25da"
      }
     },
     "metadata": {},
     "output_type": "display_data"
    },
    {
     "data": {
      "text/plain": "tokenizer.json:   0%|          | 0.00/1.84M [00:00<?, ?B/s]",
      "application/vnd.jupyter.widget-view+json": {
       "version_major": 2,
       "version_minor": 0,
       "model_id": "74b6ae6268624fa7ac055f1a551ec903"
      }
     },
     "metadata": {},
     "output_type": "display_data"
    },
    {
     "data": {
      "text/plain": "added_tokens.json:   0%|          | 0.00/21.0 [00:00<?, ?B/s]",
      "application/vnd.jupyter.widget-view+json": {
       "version_major": 2,
       "version_minor": 0,
       "model_id": "5a7b95d580224bdf941ffc31b4d20221"
      }
     },
     "metadata": {},
     "output_type": "display_data"
    },
    {
     "data": {
      "text/plain": "special_tokens_map.json:   0%|          | 0.00/435 [00:00<?, ?B/s]",
      "application/vnd.jupyter.widget-view+json": {
       "version_major": 2,
       "version_minor": 0,
       "model_id": "10817c5770c8499ca59af34d9f6bed6f"
      }
     },
     "metadata": {},
     "output_type": "display_data"
    }
   ],
   "source": [
    "tokenizer = AutoTokenizer.from_pretrained(base_model, trust_remote_code=True)\n",
    "tokenizer.pad_token = tokenizer.eos_token\n",
    "tokenizer.padding_side = \"right\""
   ]
  },
  {
   "cell_type": "code",
   "execution_count": 12,
   "metadata": {
    "id": "3AmfTzga0aJy",
    "ExecuteTime": {
     "end_time": "2024-03-28T22:31:08.301574Z",
     "start_time": "2024-03-28T22:31:08.298657Z"
    }
   },
   "outputs": [],
   "source": [
    "peft_params = LoraConfig(\n",
    "    lora_alpha=16,\n",
    "    lora_dropout=0.1,\n",
    "    r=64,\n",
    "    bias=\"none\",\n",
    "    task_type=\"CAUSAL_LM\",\n",
    ")"
   ]
  },
  {
   "cell_type": "code",
   "execution_count": 13,
   "metadata": {
    "id": "NvQ71iJx0aJy",
    "ExecuteTime": {
     "end_time": "2024-03-28T22:31:09.416315Z",
     "start_time": "2024-03-28T22:31:09.383122Z"
    }
   },
   "outputs": [],
   "source": [
    "training_params = TrainingArguments(\n",
    "    output_dir=\"./results\",\n",
    "    num_train_epochs=1,\n",
    "    per_device_train_batch_size=4,\n",
    "    gradient_accumulation_steps=1,\n",
    "    optim=\"paged_adamw_32bit\",\n",
    "    save_steps=25,\n",
    "    logging_steps=25,\n",
    "    learning_rate=2e-4,\n",
    "    weight_decay=0.001,\n",
    "    fp16=False,\n",
    "    bf16=False,\n",
    "    max_grad_norm=0.3,\n",
    "    max_steps=-1,\n",
    "    warmup_ratio=0.03,\n",
    "    group_by_length=True,\n",
    "    lr_scheduler_type=\"constant\",\n",
    "    report_to=\"tensorboard\"\n",
    ")"
   ]
  },
  {
   "cell_type": "code",
   "execution_count": 14,
   "metadata": {
    "id": "VWwPLdTU0aJy",
    "ExecuteTime": {
     "end_time": "2024-03-28T22:31:15.575570Z",
     "start_time": "2024-03-28T22:31:11.368172Z"
    }
   },
   "outputs": [
    {
     "name": "stderr",
     "output_type": "stream",
     "text": [
      "/Users/mesa/Coding Projects/LLM-Debug-Assistant/venv/lib/python3.9/site-packages/trl/trainer/sft_trainer.py:245: UserWarning: You didn't pass a `max_seq_length` argument to the SFTTrainer, this will default to 1024\n",
      "  warnings.warn(\n"
     ]
    },
    {
     "data": {
      "text/plain": "Map:   0%|          | 0/5151 [00:00<?, ? examples/s]",
      "application/vnd.jupyter.widget-view+json": {
       "version_major": 2,
       "version_minor": 0,
       "model_id": "d04cb2b9eb73457094bebdd32ff884c3"
      }
     },
     "metadata": {},
     "output_type": "display_data"
    },
    {
     "name": "stderr",
     "output_type": "stream",
     "text": [
      "/Users/mesa/Coding Projects/LLM-Debug-Assistant/venv/lib/python3.9/site-packages/accelerate/accelerator.py:432: FutureWarning: Passing the following arguments to `Accelerator` is deprecated and will be removed in version 1.0 of Accelerate: dict_keys(['dispatch_batches', 'split_batches', 'even_batches', 'use_seedable_sampler']). Please pass an `accelerate.DataLoaderConfiguration` instead: \n",
      "dataloader_config = DataLoaderConfiguration(dispatch_batches=None, split_batches=False, even_batches=True, use_seedable_sampler=True)\n",
      "  warnings.warn(\n"
     ]
    }
   ],
   "source": [
    "trainer = SFTTrainer(\n",
    "    model=model,\n",
    "    train_dataset=dataset,\n",
    "    peft_config=peft_params,\n",
    "    dataset_text_field=\"text\",\n",
    "    max_seq_length=None,\n",
    "    tokenizer=tokenizer,\n",
    "    args=training_params,\n",
    "    packing=False,\n",
    ")"
   ]
  },
  {
   "cell_type": "code",
   "execution_count": 15,
   "metadata": {
    "id": "6Vtheh0T0aJz",
    "ExecuteTime": {
     "end_time": "2024-03-28T22:31:17.971411Z",
     "start_time": "2024-03-28T22:31:17.617211Z"
    }
   },
   "outputs": [
    {
     "data": {
      "text/plain": "('llama-2-7b-chat-stack-overflow/tokenizer_config.json',\n 'llama-2-7b-chat-stack-overflow/special_tokens_map.json',\n 'llama-2-7b-chat-stack-overflow/tokenizer.json')"
     },
     "execution_count": 15,
     "metadata": {},
     "output_type": "execute_result"
    }
   ],
   "source": [
    "trainer.model.save_pretrained(new_model)\n",
    "trainer.tokenizer.save_pretrained(new_model)\n"
   ]
  },
  {
   "cell_type": "markdown",
   "source": [
    "Now lets compare asking 3 questions to our fine tuned model vs our base model\n",
    "\n",
    "First the fine tuned model"
   ],
   "metadata": {
    "collapsed": false
   }
  },
  {
   "cell_type": "code",
   "execution_count": 16,
   "metadata": {
    "id": "8GCp2ck90aJz",
    "ExecuteTime": {
     "end_time": "2024-03-28T22:48:27.093903Z",
     "start_time": "2024-03-28T22:31:21.527797Z"
    }
   },
   "outputs": [
    {
     "name": "stdout",
     "output_type": "stream",
     "text": [
      "<s>[INST] How do I loop through an array in C? [/INST]  In C, you can loop through an array using a `for` loop or a `while` loop. Here are the basic syntaxes for each:\n",
      "\n",
      "For loop:\n",
      "```\n",
      "for (int i = 0; i < array_size; i++) {\n",
      "    // loop body\n",
      "}\n",
      "```\n",
      "In this syntax, `array_size` is the number of elements in the array, and `i` is the index of the current element.\n",
      "\n",
      "While loop:\n",
      "```\n",
      "int i = 0;\n",
      "while (i < array_size) {\n",
      "    // loop body\n",
      "    i++;\n",
      "}\n",
      "```\n",
      "In this syntax, `i` is initialized to 0, and the loop continues until `i` is greater than or equal to `array_size`.\n",
      "\n",
      "You can also use a `for_each` function in\n"
     ]
    }
   ],
   "source": [
    "#logging.set_verbosity(logging.CRITICAL)\n",
    "\n",
    "prompt = \"How do I loop through an array in C?\"\n",
    "pipe = pipeline(task=\"text-generation\", model=model, tokenizer=tokenizer, max_length=200)\n",
    "result = pipe(f\"<s>[INST] {prompt} [/INST]\")\n",
    "print(result[0]['generated_text'])"
   ]
  },
  {
   "cell_type": "code",
   "execution_count": 17,
   "metadata": {
    "id": "yQr1lB4l0aJz",
    "ExecuteTime": {
     "end_time": "2024-03-28T23:07:19.294698Z",
     "start_time": "2024-03-28T22:49:20.438292Z"
    }
   },
   "outputs": [
    {
     "name": "stdout",
     "output_type": "stream",
     "text": [
      "<s>[INST] What does the 'sizeof' operator do in C? [/INST]  In C, the `sizeof` operator is used to determine the size of a variable or an object in memory.\n",
      "\n",
      "The `sizeof` operator takes a single argument, which can be a variable, a type, or a constant expression. The operator returns the size of the object or variable in bytes.\n",
      "\n",
      "Here are some examples of how to use the `sizeof` operator in C:\n",
      "\n",
      "1. To get the size of a variable:\n",
      "```\n",
      "int x = 5;\n",
      "printf(\"The size of x is %zu\\n\", sizeof(x)); // Output: The size of x is 4\n",
      "```\n",
      "In this example, `x` is an `int` variable with a size of 4 bytes.\n",
      "\n",
      "2. To get the size of a type:\n",
      "```\n",
      "struct Person {\n",
      "    int age;\n",
      "    char name[\n"
     ]
    }
   ],
   "source": [
    "prompt = \"What does the 'sizeof' operator do in C?\"\n",
    "pipe = pipeline(task=\"text-generation\", model=model, tokenizer=tokenizer, max_length=200)\n",
    "result = pipe(f\"<s>[INST] {prompt} [/INST]\")\n",
    "print(result[0]['generated_text'])"
   ]
  },
  {
   "cell_type": "code",
   "execution_count": 18,
   "metadata": {
    "id": "6TGwFAM90aJz",
    "ExecuteTime": {
     "end_time": "2024-03-28T23:45:12.108168Z",
     "start_time": "2024-03-28T23:07:19.296655Z"
    }
   },
   "outputs": [
    {
     "name": "stdout",
     "output_type": "stream",
     "text": [
      "<s>[INST] How to fix a segmentation fault in C? [/INST]  A segmentation fault, also known as a segmentation violation or SEGMENTATION_FAULT, is a type of error that occurs when a program attempts to access memory outside of its allocated boundaries. Here are some steps to help you fix a segmentation fault in C:\n",
      "\n",
      "1. Identify the location of the fault: Use a debugger or print the backtrace to determine where the segmentation fault occurred. This will help you identify the line of code that is causing the error.\n",
      "2. Review the code: Look at the code that caused the segmentation fault and make sure that you are not trying to access memory outside of the allocated boundaries. Check if you are using an index that is out of range or if you are trying to access a null pointer.\n",
      "3. Check for null pointers: Make sure that you are not trying to access a null pointer. A null\n"
     ]
    }
   ],
   "source": [
    "prompt = \"How to fix a segmentation fault in C?\"\n",
    "pipe = pipeline(task=\"text-generation\", model=model, tokenizer=tokenizer, max_length=200)\n",
    "result = pipe(f\"<s>[INST] {prompt} [/INST]\")\n",
    "print(result[0]['generated_text'])"
   ]
  },
  {
   "cell_type": "markdown",
   "source": [
    "Now the base model"
   ],
   "metadata": {
    "collapsed": false
   }
  },
  {
   "cell_type": "code",
   "outputs": [
    {
     "data": {
      "text/plain": "Loading checkpoint shards:   0%|          | 0/2 [00:00<?, ?it/s]",
      "application/vnd.jupyter.widget-view+json": {
       "version_major": 2,
       "version_minor": 0,
       "model_id": "b19e3fef3d654e61987264df418ee6c1"
      }
     },
     "metadata": {},
     "output_type": "display_data"
    },
    {
     "name": "stdout",
     "output_type": "stream",
     "text": [
      "<s>[INST] How do I loop through an array in C? [/INST]  In C, you can loop through an array using a `for` loop or a `while` loop. Here are the basic syntaxes for each:\n",
      "\n",
      "For loop:\n",
      "```\n",
      "for (int i = 0; i < array_size; i++) {\n",
      "    // loop body\n",
      "}\n",
      "```\n",
      "In this syntax, `array_size` is the number of elements in the array, and `i` is the index of the current element.\n",
      "\n",
      "While loop:\n",
      "```\n",
      "int i = 0;\n",
      "while (i < array_size) {\n",
      "    // loop body\n",
      "    i++;\n",
      "}\n",
      "```\n",
      "In this syntax, `i` is initialized to 0, and the loop continues until `i` is greater than or equal to `array_size`.\n",
      "\n",
      "You can also use a `for_each` function in\n"
     ]
    }
   ],
   "source": [
    "\n",
    "prompt = \"How do I loop through an array in C?\"\n",
    "pipe = pipeline(task=\"text-generation\", model=base_model, tokenizer=tokenizer, max_length=200)\n",
    "result = pipe(f\"<s>[INST] {prompt} [/INST]\")\n",
    "print(result[0]['generated_text'])"
   ],
   "metadata": {
    "collapsed": false,
    "ExecuteTime": {
     "end_time": "2024-03-28T23:49:36.121727Z",
     "start_time": "2024-03-28T23:47:00.244252Z"
    }
   },
   "execution_count": 19
  },
  {
   "cell_type": "code",
   "outputs": [
    {
     "data": {
      "text/plain": "Loading checkpoint shards:   0%|          | 0/2 [00:00<?, ?it/s]",
      "application/vnd.jupyter.widget-view+json": {
       "version_major": 2,
       "version_minor": 0,
       "model_id": "a53aad1d102c41b396ce62a25f82e92d"
      }
     },
     "metadata": {},
     "output_type": "display_data"
    },
    {
     "name": "stdout",
     "output_type": "stream",
     "text": [
      "<s>[INST] What does the 'sizeof' operator do in C? [/INST]  In C, the `sizeof` operator is used to determine the size of a variable or an object in memory.\n",
      "\n",
      "The `sizeof` operator takes a single argument, which can be a variable, a type, or a constant expression. The operator returns the size of the object or variable in bytes.\n",
      "\n",
      "Here are some examples of how to use the `sizeof` operator in C:\n",
      "\n",
      "1. To get the size of a variable:\n",
      "```\n",
      "int x = 5;\n",
      "printf(\"The size of x is %zu\\n\", sizeof(x)); // Output: The size of x is 4\n",
      "```\n",
      "In this example, `x` is an integer variable with a size of 4 bytes.\n",
      "\n",
      "2. To get the size of a type:\n",
      "```\n",
      "struct Person {\n",
      "    int age;\n",
      "    char name[20\n"
     ]
    }
   ],
   "source": [
    "prompt = \"What does the 'sizeof' operator do in C?\"\n",
    "pipe = pipeline(task=\"text-generation\", model=base_model, tokenizer=tokenizer, max_length=200)\n",
    "result = pipe(f\"<s>[INST] {prompt} [/INST]\")\n",
    "print(result[0]['generated_text'])"
   ],
   "metadata": {
    "collapsed": false,
    "ExecuteTime": {
     "end_time": "2024-03-28T23:53:43.893534Z",
     "start_time": "2024-03-28T23:50:53.863942Z"
    }
   },
   "execution_count": 21
  },
  {
   "cell_type": "code",
   "outputs": [
    {
     "data": {
      "text/plain": "Loading checkpoint shards:   0%|          | 0/2 [00:00<?, ?it/s]",
      "application/vnd.jupyter.widget-view+json": {
       "version_major": 2,
       "version_minor": 0,
       "model_id": "9d4201e1e5ed491b891057cd99628c32"
      }
     },
     "metadata": {},
     "output_type": "display_data"
    },
    {
     "name": "stdout",
     "output_type": "stream",
     "text": [
      "<s>[INST] How to fix a segmentation fault in C? [/INST]  A segmentation fault, also known as a segmentation violation or SEGMENTATION_FAULT, is a type of error that occurs when a program attempts to access memory outside of its allocated boundaries. Here are some steps to help you fix a segmentation fault in C:\n",
      "\n",
      "1. Identify the location of the fault: Use a debugger or print the backtrace to determine where the segmentation fault occurred. This will help you identify the line of code that is causing the error.\n",
      "2. Review the code: Look at the code that caused the segmentation fault and make sure that you are not trying to access memory outside of the allocated boundaries. Check if you are using an index that is out of range or if you are trying to access a null pointer.\n",
      "3. Check for null pointers: Make sure that you are not trying to access a null pointer. A null\n"
     ]
    }
   ],
   "source": [
    "prompt = \"How to fix a segmentation fault in C?\"\n",
    "pipe = pipeline(task=\"text-generation\", model=base_model, tokenizer=tokenizer, max_length=200)\n",
    "result = pipe(f\"<s>[INST] {prompt} [/INST]\")\n",
    "print(result[0]['generated_text'])"
   ],
   "metadata": {
    "collapsed": false,
    "ExecuteTime": {
     "end_time": "2024-03-28T23:57:39.759160Z",
     "start_time": "2024-03-28T23:55:01.068376Z"
    }
   },
   "execution_count": 22
  },
  {
   "cell_type": "code",
   "outputs": [],
   "source": [],
   "metadata": {
    "collapsed": false
   }
  }
 ],
 "metadata": {
  "kernelspec": {
   "name": "python3",
   "language": "python",
   "display_name": "Python 3 (ipykernel)"
  },
  "language_info": {
   "codemirror_mode": {
    "name": "ipython",
    "version": 3
   },
   "file_extension": ".py",
   "mimetype": "text/x-python",
   "name": "python",
   "nbconvert_exporter": "python",
   "pygments_lexer": "ipython3",
   "version": "3.10.12"
  },
  "colab": {
   "provenance": [],
   "gpuType": "T4",
   "include_colab_link": true
  },
  "accelerator": "GPU"
 },
 "nbformat": 4,
 "nbformat_minor": 0
}
