{
 "cells": [
  {
   "cell_type": "code",
   "execution_count": 1,
   "metadata": {
    "ExecuteTime": {
     "end_time": "2024-03-28T21:29:07.974342Z",
     "start_time": "2024-03-28T21:29:07.858237Z"
    },
    "colab": {
     "base_uri": "https://localhost:8080/"
    },
    "id": "puZgvM8r0aJx",
    "outputId": "ebdb2225-aa01-4a30-9994-e9c186c69751"
   },
   "outputs": [
    {
     "name": "stdout",
     "output_type": "stream",
     "text": [
      "/home/bgsmagnuson/Documents/code_py/LLM-Debug-Assistant/venv/bin/python\n"
     ]
    }
   ],
   "source": [
    "!which python"
   ]
  },
  {
   "cell_type": "code",
   "execution_count": 2,
   "metadata": {},
   "outputs": [],
   "source": [
    "import os\n",
    "import torch\n",
    "from datasets import load_dataset\n",
    "from transformers import (\n",
    "    AutoModelForCausalLM,\n",
    "    AutoTokenizer,\n",
    "    BitsAndBytesConfig,\n",
    "    TrainingArguments,\n",
    "    pipeline,\n",
    "    logging,\n",
    ")\n",
    "from peft import LoraConfig\n",
    "from trl import SFTTrainer"
   ]
  },
  {
   "cell_type": "code",
   "execution_count": 3,
   "metadata": {
    "ExecuteTime": {
     "end_time": "2024-03-29T01:52:40.995550Z",
     "start_time": "2024-03-29T01:52:40.992696Z"
    },
    "id": "6Oi4Ha2-0aJy"
   },
   "outputs": [],
   "source": [
    "# Model from Hugging Face hub\n",
    "base_model = \"TinyLlama/TinyLlama-1.1B-Chat-v1.0\"\n",
    "# New instruction dataset\n",
    "stack_overflow_dataset = \"Mxode/StackOverflow-QA-C-Language-40k\"\n",
    "code_feedback_dataset = \"m-a-p/CodeFeedback-Filtered-Instruction\"\n",
    "\n",
    "# Fine-tuned model\n",
    "new_model = \"llama-2-7b-chat-stack-overflow\""
   ]
  },
  {
   "cell_type": "code",
   "execution_count": 4,
   "metadata": {},
   "outputs": [],
   "source": [
    "dataset = load_dataset(code_feedback_dataset, split=\"train\")\n",
    "dataset = dataset.shuffle(seed=42)"
   ]
  },
  {
   "cell_type": "code",
   "execution_count": 5,
   "metadata": {
    "ExecuteTime": {
     "end_time": "2024-03-29T01:52:56.810637Z",
     "start_time": "2024-03-29T01:52:55.907172Z"
    },
    "id": "-TEmF43d0aJy"
   },
   "outputs": [],
   "source": [
    "# dataset currently has 'question' and 'answer' columns. We need to combine them into a single column named 'text'\n",
    "dataset = dataset.map(\n",
    "    lambda examples: {\n",
    "        \"text\": \"<s>[INST]\" + examples[\"query\"] + \"[\\INST] \" + examples[\"answer\"] + \"</s>\",\n",
    "    }\n",
    ")\n",
    "# Select only 40000 examples\n",
    "trunc_dataset = dataset.select(range(40000))\n",
    "del dataset"
   ]
  },
  {
   "cell_type": "code",
   "execution_count": 6,
   "metadata": {},
   "outputs": [],
   "source": [
    "compute_dtype = getattr(torch, \"float16\")\n",
    "\n",
    "quant_config = BitsAndBytesConfig(\n",
    "    load_in_4bit=True,\n",
    "    bnb_4bit_quant_type=\"nf4\",\n",
    "    bnb_4bit_compute_dtype=compute_dtype,\n",
    "    bnb_4bit_use_double_quant=False,\n",
    ")"
   ]
  },
  {
   "cell_type": "code",
   "execution_count": 7,
   "metadata": {},
   "outputs": [],
   "source": [
    "model = AutoModelForCausalLM.from_pretrained(\n",
    "    base_model,\n",
    "    quantization_config=quant_config,\n",
    "    device_map={\"\": 0}\n",
    ")\n",
    "model.config.use_cache = False\n",
    "model.config.pretraining_tp = 1"
   ]
  },
  {
   "cell_type": "code",
   "execution_count": 8,
   "metadata": {},
   "outputs": [],
   "source": [
    "tokenizer = AutoTokenizer.from_pretrained(base_model, trust_remote_code=True)\n",
    "tokenizer.pad_token = tokenizer.eos_token\n",
    "tokenizer.padding_side = \"right\""
   ]
  },
  {
   "cell_type": "code",
   "execution_count": 9,
   "metadata": {},
   "outputs": [],
   "source": [
    "peft_params = LoraConfig(\n",
    "    lora_alpha=16,\n",
    "    lora_dropout=0.1,\n",
    "    r=64,\n",
    "    bias=\"none\",\n",
    "    task_type=\"CAUSAL_LM\",\n",
    ")"
   ]
  },
  {
   "cell_type": "code",
   "execution_count": 10,
   "metadata": {},
   "outputs": [],
   "source": [
    "training_params = TrainingArguments(\n",
    "    output_dir=\"./tiny-llama-code-feedback\",\n",
    "    num_train_epochs=1,\n",
    "    per_device_train_batch_size=1,\n",
    "    gradient_accumulation_steps=4,\n",
    "    optim=\"paged_adamw_32bit\",\n",
    "    save_steps=25,\n",
    "    logging_steps=25,\n",
    "    learning_rate=2e-4,\n",
    "    weight_decay=0.001,\n",
    "    fp16=True,\n",
    "    bf16=False,\n",
    "    max_grad_norm=0.3,\n",
    "    max_steps=-1,\n",
    "    warmup_ratio=0.03,\n",
    "    group_by_length=True,\n",
    "    lr_scheduler_type=\"constant\",\n",
    "    report_to=\"tensorboard\"\n",
    ")"
   ]
  },
  {
   "cell_type": "code",
   "execution_count": 11,
   "metadata": {},
   "outputs": [
    {
     "name": "stderr",
     "output_type": "stream",
     "text": [
      "/home/bgsmagnuson/Documents/code_py/LLM-Debug-Assistant/venv/lib/python3.10/site-packages/trl/trainer/sft_trainer.py:246: UserWarning: You didn't pass a `max_seq_length` argument to the SFTTrainer, this will default to 1024\n",
      "  warnings.warn(\n",
      "/home/bgsmagnuson/Documents/code_py/LLM-Debug-Assistant/venv/lib/python3.10/site-packages/accelerate/accelerator.py:436: FutureWarning: Passing the following arguments to `Accelerator` is deprecated and will be removed in version 1.0 of Accelerate: dict_keys(['dispatch_batches', 'split_batches', 'even_batches', 'use_seedable_sampler']). Please pass an `accelerate.DataLoaderConfiguration` instead: \n",
      "dataloader_config = DataLoaderConfiguration(dispatch_batches=None, split_batches=False, even_batches=True, use_seedable_sampler=True)\n",
      "  warnings.warn(\n"
     ]
    }
   ],
   "source": [
    "trainer = SFTTrainer(\n",
    "    model=model,\n",
    "    train_dataset=trunc_dataset,\n",
    "    peft_config=peft_params,\n",
    "    dataset_text_field=\"text\",\n",
    "    max_seq_length=None,\n",
    "    tokenizer=tokenizer,\n",
    "    args=training_params,\n",
    "    packing=False,\n",
    ")"
   ]
  },
  {
   "cell_type": "code",
   "execution_count": 12,
   "metadata": {},
   "outputs": [
    {
     "data": {
      "application/vnd.jupyter.widget-view+json": {
       "model_id": "ec7cf5abdddb42d78c847d106d2b0a4a",
       "version_major": 2,
       "version_minor": 0
      },
      "text/plain": [
       "  0%|          | 0/10000 [00:00<?, ?it/s]"
      ]
     },
     "metadata": {},
     "output_type": "display_data"
    },
    {
     "name": "stdout",
     "output_type": "stream",
     "text": [
      "{'loss': 1.1039, 'grad_norm': 0.1473865509033203, 'learning_rate': 0.0002, 'epoch': 0.0}\n",
      "{'loss': 1.1087, 'grad_norm': nan, 'learning_rate': 0.0002, 'epoch': 0.01}\n",
      "{'loss': 1.1259, 'grad_norm': 0.20463761687278748, 'learning_rate': 0.0002, 'epoch': 0.01}\n",
      "{'loss': 1.08, 'grad_norm': 2.0228610038757324, 'learning_rate': 0.0002, 'epoch': 0.01}\n",
      "{'loss': 1.0137, 'grad_norm': 0.2088489979505539, 'learning_rate': 0.0002, 'epoch': 0.01}\n",
      "{'loss': 1.0303, 'grad_norm': 1.0524128675460815, 'learning_rate': 0.0002, 'epoch': 0.01}\n",
      "{'loss': 1.0345, 'grad_norm': 0.16082286834716797, 'learning_rate': 0.0002, 'epoch': 0.02}\n",
      "{'loss': 1.0448, 'grad_norm': 0.7031107544898987, 'learning_rate': 0.0002, 'epoch': 0.02}\n",
      "{'loss': 0.9979, 'grad_norm': 0.19572685658931732, 'learning_rate': 0.0002, 'epoch': 0.02}\n",
      "{'loss': 1.0275, 'grad_norm': 0.9878652691841125, 'learning_rate': 0.0002, 'epoch': 0.03}\n",
      "{'loss': 0.9301, 'grad_norm': 0.16263549029827118, 'learning_rate': 0.0002, 'epoch': 0.03}\n",
      "{'loss': 1.1053, 'grad_norm': 0.8138638734817505, 'learning_rate': 0.0002, 'epoch': 0.03}\n",
      "{'loss': 1.0769, 'grad_norm': 0.1824832409620285, 'learning_rate': 0.0002, 'epoch': 0.03}\n",
      "{'loss': 0.9711, 'grad_norm': 0.9486844539642334, 'learning_rate': 0.0002, 'epoch': 0.04}\n",
      "{'loss': 0.9696, 'grad_norm': 0.16212576627731323, 'learning_rate': 0.0002, 'epoch': 0.04}\n",
      "{'loss': 1.0512, 'grad_norm': 0.5512800216674805, 'learning_rate': 0.0002, 'epoch': 0.04}\n",
      "{'loss': 0.9612, 'grad_norm': 0.1564604789018631, 'learning_rate': 0.0002, 'epoch': 0.04}\n",
      "{'loss': 1.0159, 'grad_norm': 0.7925065159797668, 'learning_rate': 0.0002, 'epoch': 0.04}\n",
      "{'loss': 0.8438, 'grad_norm': 0.15939272940158844, 'learning_rate': 0.0002, 'epoch': 0.05}\n",
      "{'loss': 0.9968, 'grad_norm': 1.2181346416473389, 'learning_rate': 0.0002, 'epoch': 0.05}\n",
      "{'loss': 1.0606, 'grad_norm': 0.18901243805885315, 'learning_rate': 0.0002, 'epoch': 0.05}\n",
      "{'loss': 0.957, 'grad_norm': 1.0167464017868042, 'learning_rate': 0.0002, 'epoch': 0.06}\n",
      "{'loss': 0.9509, 'grad_norm': 0.16407564282417297, 'learning_rate': 0.0002, 'epoch': 0.06}\n",
      "{'loss': 0.9068, 'grad_norm': 0.7964873313903809, 'learning_rate': 0.0002, 'epoch': 0.06}\n",
      "{'loss': 0.9692, 'grad_norm': 0.1474466323852539, 'learning_rate': 0.0002, 'epoch': 0.06}\n",
      "{'loss': 0.8666, 'grad_norm': 0.5529358983039856, 'learning_rate': 0.0002, 'epoch': 0.07}\n",
      "{'loss': 0.9897, 'grad_norm': 0.17560884356498718, 'learning_rate': 0.0002, 'epoch': 0.07}\n",
      "{'loss': 0.9755, 'grad_norm': 0.744655430316925, 'learning_rate': 0.0002, 'epoch': 0.07}\n",
      "{'loss': 0.9929, 'grad_norm': 0.13952620327472687, 'learning_rate': 0.0002, 'epoch': 0.07}\n",
      "{'loss': 0.9002, 'grad_norm': 0.5299781560897827, 'learning_rate': 0.0002, 'epoch': 0.07}\n",
      "{'loss': 0.9395, 'grad_norm': 0.15891987085342407, 'learning_rate': 0.0002, 'epoch': 0.08}\n",
      "{'loss': 0.9509, 'grad_norm': 0.46100297570228577, 'learning_rate': 0.0002, 'epoch': 0.08}\n",
      "{'loss': 0.9772, 'grad_norm': 0.16506388783454895, 'learning_rate': 0.0002, 'epoch': 0.08}\n",
      "{'loss': 0.9402, 'grad_norm': 0.6863508820533752, 'learning_rate': 0.0002, 'epoch': 0.09}\n",
      "{'loss': 0.8811, 'grad_norm': 0.18882785737514496, 'learning_rate': 0.0002, 'epoch': 0.09}\n",
      "{'loss': 0.9429, 'grad_norm': 0.6042115688323975, 'learning_rate': 0.0002, 'epoch': 0.09}\n",
      "{'loss': 1.028, 'grad_norm': 0.1462540477514267, 'learning_rate': 0.0002, 'epoch': 0.09}\n",
      "{'loss': 0.9468, 'grad_norm': 0.8108144998550415, 'learning_rate': 0.0002, 'epoch': 0.1}\n",
      "{'loss': 0.9969, 'grad_norm': 0.17016586661338806, 'learning_rate': 0.0002, 'epoch': 0.1}\n",
      "{'loss': 0.9752, 'grad_norm': 1.0114277601242065, 'learning_rate': 0.0002, 'epoch': 0.1}\n",
      "{'loss': 1.0004, 'grad_norm': 0.17824725806713104, 'learning_rate': 0.0002, 'epoch': 0.1}\n",
      "{'loss': 1.0048, 'grad_norm': 0.5518081784248352, 'learning_rate': 0.0002, 'epoch': 0.1}\n",
      "{'loss': 1.0757, 'grad_norm': 0.1807875782251358, 'learning_rate': 0.0002, 'epoch': 0.11}\n",
      "{'loss': 0.9586, 'grad_norm': 0.6609805822372437, 'learning_rate': 0.0002, 'epoch': 0.11}\n",
      "{'loss': 0.901, 'grad_norm': 0.14438281953334808, 'learning_rate': 0.0002, 'epoch': 0.11}\n",
      "{'loss': 0.9674, 'grad_norm': 0.5785639882087708, 'learning_rate': 0.0002, 'epoch': 0.12}\n",
      "{'loss': 1.0211, 'grad_norm': 0.1708645522594452, 'learning_rate': 0.0002, 'epoch': 0.12}\n",
      "{'loss': 0.9613, 'grad_norm': 0.6358480453491211, 'learning_rate': 0.0002, 'epoch': 0.12}\n",
      "{'loss': 0.9996, 'grad_norm': 0.14341296255588531, 'learning_rate': 0.0002, 'epoch': 0.12}\n",
      "{'loss': 0.9574, 'grad_norm': 0.7054002285003662, 'learning_rate': 0.0002, 'epoch': 0.12}\n",
      "{'loss': 0.9402, 'grad_norm': 0.19284452497959137, 'learning_rate': 0.0002, 'epoch': 0.13}\n",
      "{'loss': 0.9702, 'grad_norm': 0.6732187271118164, 'learning_rate': 0.0002, 'epoch': 0.13}\n",
      "{'loss': 0.9383, 'grad_norm': 0.16392892599105835, 'learning_rate': 0.0002, 'epoch': 0.13}\n",
      "{'loss': 0.8871, 'grad_norm': 0.546034574508667, 'learning_rate': 0.0002, 'epoch': 0.14}\n",
      "{'loss': 1.0381, 'grad_norm': 0.19721634685993195, 'learning_rate': 0.0002, 'epoch': 0.14}\n",
      "{'loss': 0.8946, 'grad_norm': 0.4309283494949341, 'learning_rate': 0.0002, 'epoch': 0.14}\n",
      "{'loss': 0.9881, 'grad_norm': 0.17368640005588531, 'learning_rate': 0.0002, 'epoch': 0.14}\n",
      "{'loss': 1.014, 'grad_norm': 0.8383578658103943, 'learning_rate': 0.0002, 'epoch': 0.14}\n",
      "{'loss': 1.0157, 'grad_norm': 0.17120376229286194, 'learning_rate': 0.0002, 'epoch': 0.15}\n",
      "{'loss': 0.9568, 'grad_norm': 0.8268991112709045, 'learning_rate': 0.0002, 'epoch': 0.15}\n",
      "{'loss': 0.9533, 'grad_norm': 0.17330726981163025, 'learning_rate': 0.0002, 'epoch': 0.15}\n",
      "{'loss': 0.92, 'grad_norm': 0.6172852516174316, 'learning_rate': 0.0002, 'epoch': 0.15}\n",
      "{'loss': 0.9033, 'grad_norm': 0.17465423047542572, 'learning_rate': 0.0002, 'epoch': 0.16}\n",
      "{'loss': 0.9121, 'grad_norm': 0.5994295477867126, 'learning_rate': 0.0002, 'epoch': 0.16}\n",
      "{'loss': 1.0021, 'grad_norm': 0.16907010972499847, 'learning_rate': 0.0002, 'epoch': 0.16}\n",
      "{'loss': 0.9639, 'grad_norm': 0.4903848469257355, 'learning_rate': 0.0002, 'epoch': 0.17}\n",
      "{'loss': 0.9027, 'grad_norm': 0.1403561532497406, 'learning_rate': 0.0002, 'epoch': 0.17}\n",
      "{'loss': 0.9313, 'grad_norm': 0.8235511779785156, 'learning_rate': 0.0002, 'epoch': 0.17}\n",
      "{'loss': 1.0055, 'grad_norm': 0.18666565418243408, 'learning_rate': 0.0002, 'epoch': 0.17}\n",
      "{'loss': 0.9546, 'grad_norm': 0.5993369221687317, 'learning_rate': 0.0002, 'epoch': 0.17}\n",
      "{'loss': 1.0227, 'grad_norm': 0.15853627026081085, 'learning_rate': 0.0002, 'epoch': 0.18}\n",
      "{'loss': 0.9461, 'grad_norm': 0.7348814606666565, 'learning_rate': 0.0002, 'epoch': 0.18}\n",
      "{'loss': 0.982, 'grad_norm': 0.15170517563819885, 'learning_rate': 0.0002, 'epoch': 0.18}\n",
      "{'loss': 1.0149, 'grad_norm': 0.6949355006217957, 'learning_rate': 0.0002, 'epoch': 0.18}\n",
      "{'loss': 0.9671, 'grad_norm': 0.1654372215270996, 'learning_rate': 0.0002, 'epoch': 0.19}\n",
      "{'loss': 0.9034, 'grad_norm': 1.227147102355957, 'learning_rate': 0.0002, 'epoch': 0.19}\n",
      "{'loss': 1.0138, 'grad_norm': 0.17835673689842224, 'learning_rate': 0.0002, 'epoch': 0.19}\n",
      "{'loss': 0.9031, 'grad_norm': 0.5519052743911743, 'learning_rate': 0.0002, 'epoch': 0.2}\n",
      "{'loss': 0.9872, 'grad_norm': 0.15722355246543884, 'learning_rate': 0.0002, 'epoch': 0.2}\n",
      "{'loss': 0.9728, 'grad_norm': 0.7770719528198242, 'learning_rate': 0.0002, 'epoch': 0.2}\n",
      "{'loss': 0.9731, 'grad_norm': 0.1761191040277481, 'learning_rate': 0.0002, 'epoch': 0.2}\n",
      "{'loss': 0.8952, 'grad_norm': 0.714655876159668, 'learning_rate': 0.0002, 'epoch': 0.2}\n",
      "{'loss': 0.9407, 'grad_norm': 0.14995768666267395, 'learning_rate': 0.0002, 'epoch': 0.21}\n",
      "{'loss': 0.9546, 'grad_norm': 0.7260432243347168, 'learning_rate': 0.0002, 'epoch': 0.21}\n",
      "{'loss': 0.9653, 'grad_norm': 0.15550945699214935, 'learning_rate': 0.0002, 'epoch': 0.21}\n",
      "{'loss': 0.9441, 'grad_norm': nan, 'learning_rate': 0.0002, 'epoch': 0.21}\n",
      "{'loss': 0.9899, 'grad_norm': 0.19342724978923798, 'learning_rate': 0.0002, 'epoch': 0.22}\n",
      "{'loss': 0.8665, 'grad_norm': 0.5888460278511047, 'learning_rate': 0.0002, 'epoch': 0.22}\n",
      "{'loss': 0.9416, 'grad_norm': 0.16942153871059418, 'learning_rate': 0.0002, 'epoch': 0.22}\n",
      "{'loss': 0.9211, 'grad_norm': nan, 'learning_rate': 0.0002, 'epoch': 0.23}\n",
      "{'loss': 0.9709, 'grad_norm': 0.14640675485134125, 'learning_rate': 0.0002, 'epoch': 0.23}\n",
      "{'loss': 0.8991, 'grad_norm': 0.6530085206031799, 'learning_rate': 0.0002, 'epoch': 0.23}\n",
      "{'loss': 0.9113, 'grad_norm': 0.15613000094890594, 'learning_rate': 0.0002, 'epoch': 0.23}\n",
      "{'loss': 0.9628, 'grad_norm': 0.48987045884132385, 'learning_rate': 0.0002, 'epoch': 0.23}\n",
      "{'loss': 0.9861, 'grad_norm': 0.20149683952331543, 'learning_rate': 0.0002, 'epoch': 0.24}\n",
      "{'loss': 0.9742, 'grad_norm': 0.5727905035018921, 'learning_rate': 0.0002, 'epoch': 0.24}\n",
      "{'loss': 0.8676, 'grad_norm': 0.1859622448682785, 'learning_rate': 0.0002, 'epoch': 0.24}\n",
      "{'loss': 0.8748, 'grad_norm': 0.5710355043411255, 'learning_rate': 0.0002, 'epoch': 0.24}\n",
      "{'loss': 1.0037, 'grad_norm': 0.14951194822788239, 'learning_rate': 0.0002, 'epoch': 0.25}\n",
      "{'loss': 0.9046, 'grad_norm': 0.6935268640518188, 'learning_rate': 0.0002, 'epoch': 0.25}\n",
      "{'loss': 0.946, 'grad_norm': 0.18522819876670837, 'learning_rate': 0.0002, 'epoch': 0.25}\n",
      "{'loss': 0.9371, 'grad_norm': 0.9770438075065613, 'learning_rate': 0.0002, 'epoch': 0.26}\n",
      "{'loss': 0.9257, 'grad_norm': 0.18332898616790771, 'learning_rate': 0.0002, 'epoch': 0.26}\n",
      "{'loss': 0.9311, 'grad_norm': 1.0680220127105713, 'learning_rate': 0.0002, 'epoch': 0.26}\n",
      "{'loss': 0.93, 'grad_norm': 0.16681881248950958, 'learning_rate': 0.0002, 'epoch': 0.26}\n",
      "{'loss': 0.8941, 'grad_norm': 0.46773549914360046, 'learning_rate': 0.0002, 'epoch': 0.27}\n",
      "{'loss': 0.9175, 'grad_norm': 0.16685403883457184, 'learning_rate': 0.0002, 'epoch': 0.27}\n",
      "{'loss': 0.9741, 'grad_norm': 0.704140305519104, 'learning_rate': 0.0002, 'epoch': 0.27}\n",
      "{'loss': 0.9475, 'grad_norm': 0.15739645063877106, 'learning_rate': 0.0002, 'epoch': 0.27}\n",
      "{'loss': 0.9365, 'grad_norm': 0.5654866099357605, 'learning_rate': 0.0002, 'epoch': 0.28}\n",
      "{'loss': 0.9988, 'grad_norm': 0.1954333782196045, 'learning_rate': 0.0002, 'epoch': 0.28}\n",
      "{'loss': 0.9067, 'grad_norm': 0.5965314507484436, 'learning_rate': 0.0002, 'epoch': 0.28}\n",
      "{'loss': 0.9217, 'grad_norm': 0.19402556121349335, 'learning_rate': 0.0002, 'epoch': 0.28}\n",
      "{'loss': 0.8886, 'grad_norm': 1.1799172163009644, 'learning_rate': 0.0002, 'epoch': 0.28}\n",
      "{'loss': 0.9948, 'grad_norm': 0.1434619426727295, 'learning_rate': 0.0002, 'epoch': 0.29}\n",
      "{'loss': 0.9438, 'grad_norm': 0.5917403101921082, 'learning_rate': 0.0002, 'epoch': 0.29}\n",
      "{'loss': 0.9731, 'grad_norm': 0.16124939918518066, 'learning_rate': 0.0002, 'epoch': 0.29}\n",
      "{'loss': 0.9767, 'grad_norm': 0.590294599533081, 'learning_rate': 0.0002, 'epoch': 0.29}\n",
      "{'loss': 0.9204, 'grad_norm': 0.15503399074077606, 'learning_rate': 0.0002, 'epoch': 0.3}\n",
      "{'loss': 0.9404, 'grad_norm': 0.8178427815437317, 'learning_rate': 0.0002, 'epoch': 0.3}\n",
      "{'loss': 0.9458, 'grad_norm': 0.17826278507709503, 'learning_rate': 0.0002, 'epoch': 0.3}\n",
      "{'loss': 0.9281, 'grad_norm': 0.45490437746047974, 'learning_rate': 0.0002, 'epoch': 0.3}\n",
      "{'loss': 0.9365, 'grad_norm': 0.1904248148202896, 'learning_rate': 0.0002, 'epoch': 0.31}\n",
      "{'loss': 0.9241, 'grad_norm': 0.5431923866271973, 'learning_rate': 0.0002, 'epoch': 0.31}\n",
      "{'loss': 1.0098, 'grad_norm': 0.16843143105506897, 'learning_rate': 0.0002, 'epoch': 0.31}\n",
      "{'loss': 0.9559, 'grad_norm': 0.6602270603179932, 'learning_rate': 0.0002, 'epoch': 0.32}\n",
      "{'loss': 0.9458, 'grad_norm': 0.15411706268787384, 'learning_rate': 0.0002, 'epoch': 0.32}\n",
      "{'loss': 0.9158, 'grad_norm': 0.9508289694786072, 'learning_rate': 0.0002, 'epoch': 0.32}\n",
      "{'loss': 0.9445, 'grad_norm': 0.16246093809604645, 'learning_rate': 0.0002, 'epoch': 0.32}\n",
      "{'loss': 0.9772, 'grad_norm': 0.809680700302124, 'learning_rate': 0.0002, 'epoch': 0.33}\n",
      "{'loss': 0.9616, 'grad_norm': 0.1763370782136917, 'learning_rate': 0.0002, 'epoch': 0.33}\n",
      "{'loss': 0.8943, 'grad_norm': 0.6156730651855469, 'learning_rate': 0.0002, 'epoch': 0.33}\n",
      "{'loss': 0.9066, 'grad_norm': 0.20638826489448547, 'learning_rate': 0.0002, 'epoch': 0.33}\n",
      "{'loss': 0.9081, 'grad_norm': 0.6561472415924072, 'learning_rate': 0.0002, 'epoch': 0.34}\n",
      "{'loss': 0.9211, 'grad_norm': 0.18327024579048157, 'learning_rate': 0.0002, 'epoch': 0.34}\n",
      "{'loss': 0.8897, 'grad_norm': 0.9138961434364319, 'learning_rate': 0.0002, 'epoch': 0.34}\n",
      "{'loss': 1.0096, 'grad_norm': 0.15767188370227814, 'learning_rate': 0.0002, 'epoch': 0.34}\n",
      "{'loss': 0.8837, 'grad_norm': 0.5125522613525391, 'learning_rate': 0.0002, 'epoch': 0.34}\n",
      "{'loss': 0.9325, 'grad_norm': 0.16168996691703796, 'learning_rate': 0.0002, 'epoch': 0.35}\n",
      "{'loss': 0.9753, 'grad_norm': 0.9087097644805908, 'learning_rate': 0.0002, 'epoch': 0.35}\n",
      "{'loss': 0.9119, 'grad_norm': 0.15069128572940826, 'learning_rate': 0.0002, 'epoch': 0.35}\n",
      "{'loss': 0.8857, 'grad_norm': 0.5145788788795471, 'learning_rate': 0.0002, 'epoch': 0.35}\n",
      "{'loss': 0.9383, 'grad_norm': 0.19048061966896057, 'learning_rate': 0.0002, 'epoch': 0.36}\n",
      "{'loss': 0.9258, 'grad_norm': 0.5361146330833435, 'learning_rate': 0.0002, 'epoch': 0.36}\n",
      "{'loss': 0.9488, 'grad_norm': 0.14951658248901367, 'learning_rate': 0.0002, 'epoch': 0.36}\n",
      "{'loss': 0.8776, 'grad_norm': 0.6128055453300476, 'learning_rate': 0.0002, 'epoch': 0.36}\n",
      "{'loss': 0.9088, 'grad_norm': 0.18097293376922607, 'learning_rate': 0.0002, 'epoch': 0.37}\n",
      "{'loss': 0.9073, 'grad_norm': 0.6186358332633972, 'learning_rate': 0.0002, 'epoch': 0.37}\n",
      "{'loss': 0.9003, 'grad_norm': 0.19043993949890137, 'learning_rate': 0.0002, 'epoch': 0.37}\n",
      "{'loss': 0.9086, 'grad_norm': 0.9779380559921265, 'learning_rate': 0.0002, 'epoch': 0.38}\n",
      "{'loss': 0.899, 'grad_norm': 0.19679412245750427, 'learning_rate': 0.0002, 'epoch': 0.38}\n",
      "{'loss': 0.911, 'grad_norm': 0.695183277130127, 'learning_rate': 0.0002, 'epoch': 0.38}\n",
      "{'loss': 0.9871, 'grad_norm': 0.19006764888763428, 'learning_rate': 0.0002, 'epoch': 0.38}\n",
      "{'loss': 0.9681, 'grad_norm': 0.5479898452758789, 'learning_rate': 0.0002, 'epoch': 0.39}\n",
      "{'loss': 0.9422, 'grad_norm': 0.17096063494682312, 'learning_rate': 0.0002, 'epoch': 0.39}\n",
      "{'loss': 0.9219, 'grad_norm': 0.5813881158828735, 'learning_rate': 0.0002, 'epoch': 0.39}\n",
      "{'loss': 0.9477, 'grad_norm': 0.1810421496629715, 'learning_rate': 0.0002, 'epoch': 0.39}\n",
      "{'loss': 0.9911, 'grad_norm': 0.9231253266334534, 'learning_rate': 0.0002, 'epoch': 0.4}\n",
      "{'loss': 1.086, 'grad_norm': 0.15716998279094696, 'learning_rate': 0.0002, 'epoch': 0.4}\n",
      "{'loss': 0.9175, 'grad_norm': 0.8333872556686401, 'learning_rate': 0.0002, 'epoch': 0.4}\n",
      "{'loss': 0.8802, 'grad_norm': 0.15496739745140076, 'learning_rate': 0.0002, 'epoch': 0.4}\n",
      "{'loss': 0.8937, 'grad_norm': 0.5601121187210083, 'learning_rate': 0.0002, 'epoch': 0.41}\n",
      "{'loss': 1.0018, 'grad_norm': 0.15465256571769714, 'learning_rate': 0.0002, 'epoch': 0.41}\n",
      "{'loss': 0.9231, 'grad_norm': 0.5901041626930237, 'learning_rate': 0.0002, 'epoch': 0.41}\n",
      "{'loss': 0.9212, 'grad_norm': 0.16790370643138885, 'learning_rate': 0.0002, 'epoch': 0.41}\n",
      "{'loss': 0.9873, 'grad_norm': 0.9871569275856018, 'learning_rate': 0.0002, 'epoch': 0.41}\n",
      "{'loss': 0.899, 'grad_norm': 0.1784098893404007, 'learning_rate': 0.0002, 'epoch': 0.42}\n",
      "{'loss': 0.8913, 'grad_norm': 1.080674171447754, 'learning_rate': 0.0002, 'epoch': 0.42}\n",
      "{'loss': 0.9333, 'grad_norm': 0.18134307861328125, 'learning_rate': 0.0002, 'epoch': 0.42}\n",
      "{'loss': 0.8932, 'grad_norm': 0.7931810021400452, 'learning_rate': 0.0002, 'epoch': 0.42}\n",
      "{'loss': 1.0177, 'grad_norm': 0.17424467206001282, 'learning_rate': 0.0002, 'epoch': 0.43}\n",
      "{'loss': 0.9322, 'grad_norm': 0.7647857069969177, 'learning_rate': 0.0002, 'epoch': 0.43}\n",
      "{'loss': 1.0242, 'grad_norm': 0.17789813876152039, 'learning_rate': 0.0002, 'epoch': 0.43}\n",
      "{'loss': 0.8537, 'grad_norm': 0.9046485424041748, 'learning_rate': 0.0002, 'epoch': 0.43}\n",
      "{'loss': 0.911, 'grad_norm': 0.17194864153862, 'learning_rate': 0.0002, 'epoch': 0.44}\n",
      "{'loss': 0.9081, 'grad_norm': 0.5690350532531738, 'learning_rate': 0.0002, 'epoch': 0.44}\n",
      "{'loss': 1.0072, 'grad_norm': 0.16935771703720093, 'learning_rate': 0.0002, 'epoch': 0.44}\n",
      "{'loss': 0.9342, 'grad_norm': 0.4512929618358612, 'learning_rate': 0.0002, 'epoch': 0.45}\n",
      "{'loss': 0.8486, 'grad_norm': 0.17375916242599487, 'learning_rate': 0.0002, 'epoch': 0.45}\n",
      "{'loss': 0.9179, 'grad_norm': 0.7382855415344238, 'learning_rate': 0.0002, 'epoch': 0.45}\n",
      "{'loss': 0.8992, 'grad_norm': 0.16021981835365295, 'learning_rate': 0.0002, 'epoch': 0.45}\n",
      "{'loss': 1.0266, 'grad_norm': 1.1508495807647705, 'learning_rate': 0.0002, 'epoch': 0.46}\n",
      "{'loss': 0.9024, 'grad_norm': 0.19768942892551422, 'learning_rate': 0.0002, 'epoch': 0.46}\n",
      "{'loss': 0.887, 'grad_norm': 0.45622074604034424, 'learning_rate': 0.0002, 'epoch': 0.46}\n",
      "{'loss': 1.0011, 'grad_norm': 0.18411509692668915, 'learning_rate': 0.0002, 'epoch': 0.46}\n",
      "{'loss': 0.9291, 'grad_norm': 0.7298449277877808, 'learning_rate': 0.0002, 'epoch': 0.47}\n",
      "{'loss': 0.8471, 'grad_norm': 0.17489437758922577, 'learning_rate': 0.0002, 'epoch': 0.47}\n",
      "{'loss': 0.8976, 'grad_norm': 0.6527608633041382, 'learning_rate': 0.0002, 'epoch': 0.47}\n",
      "{'loss': 0.9488, 'grad_norm': 0.17943738400936127, 'learning_rate': 0.0002, 'epoch': 0.47}\n",
      "{'loss': 0.8953, 'grad_norm': 0.43084022402763367, 'learning_rate': 0.0002, 'epoch': 0.47}\n",
      "{'loss': 0.9554, 'grad_norm': 0.15030547976493835, 'learning_rate': 0.0002, 'epoch': 0.48}\n",
      "{'loss': 0.9391, 'grad_norm': 0.6574497818946838, 'learning_rate': 0.0002, 'epoch': 0.48}\n",
      "{'loss': 0.9359, 'grad_norm': 0.1792439967393875, 'learning_rate': 0.0002, 'epoch': 0.48}\n",
      "{'loss': 0.9541, 'grad_norm': 1.103253722190857, 'learning_rate': 0.0002, 'epoch': 0.48}\n",
      "{'loss': 0.9726, 'grad_norm': 0.1727408468723297, 'learning_rate': 0.0002, 'epoch': 0.49}\n",
      "{'loss': 0.9093, 'grad_norm': 0.5923681259155273, 'learning_rate': 0.0002, 'epoch': 0.49}\n",
      "{'loss': 0.9404, 'grad_norm': 0.1725590080022812, 'learning_rate': 0.0002, 'epoch': 0.49}\n",
      "{'loss': 0.8707, 'grad_norm': 0.649212658405304, 'learning_rate': 0.0002, 'epoch': 0.49}\n",
      "{'loss': 0.8741, 'grad_norm': 0.16458356380462646, 'learning_rate': 0.0002, 'epoch': 0.5}\n",
      "{'loss': 0.8799, 'grad_norm': 0.49708107113838196, 'learning_rate': 0.0002, 'epoch': 0.5}\n",
      "{'loss': 0.9108, 'grad_norm': 0.24258512258529663, 'learning_rate': 0.0002, 'epoch': 0.5}\n",
      "{'loss': 0.9263, 'grad_norm': 0.886997401714325, 'learning_rate': 0.0002, 'epoch': 0.51}\n",
      "{'loss': 0.8988, 'grad_norm': 0.17355671525001526, 'learning_rate': 0.0002, 'epoch': 0.51}\n",
      "{'loss': 0.9497, 'grad_norm': 0.5229758024215698, 'learning_rate': 0.0002, 'epoch': 0.51}\n",
      "{'loss': 0.9066, 'grad_norm': 0.1711326539516449, 'learning_rate': 0.0002, 'epoch': 0.51}\n",
      "{'loss': 0.938, 'grad_norm': 0.5563514232635498, 'learning_rate': 0.0002, 'epoch': 0.52}\n",
      "{'loss': 0.9854, 'grad_norm': 0.17421077191829681, 'learning_rate': 0.0002, 'epoch': 0.52}\n",
      "{'loss': 0.8528, 'grad_norm': 0.5765153765678406, 'learning_rate': 0.0002, 'epoch': 0.52}\n",
      "{'loss': 0.9101, 'grad_norm': 0.1576261818408966, 'learning_rate': 0.0002, 'epoch': 0.52}\n",
      "{'loss': 0.9565, 'grad_norm': 0.7621123194694519, 'learning_rate': 0.0002, 'epoch': 0.53}\n",
      "{'loss': 0.8985, 'grad_norm': 0.16743089258670807, 'learning_rate': 0.0002, 'epoch': 0.53}\n",
      "{'loss': 0.8453, 'grad_norm': 0.524124264717102, 'learning_rate': 0.0002, 'epoch': 0.53}\n",
      "{'loss': 0.9632, 'grad_norm': 0.21563546359539032, 'learning_rate': 0.0002, 'epoch': 0.53}\n",
      "{'loss': 0.9212, 'grad_norm': 0.5831035375595093, 'learning_rate': 0.0002, 'epoch': 0.54}\n",
      "{'loss': 0.8734, 'grad_norm': 0.17566201090812683, 'learning_rate': 0.0002, 'epoch': 0.54}\n",
      "{'loss': 0.9401, 'grad_norm': 0.6591996550559998, 'learning_rate': 0.0002, 'epoch': 0.54}\n",
      "{'loss': 0.9407, 'grad_norm': 0.20948630571365356, 'learning_rate': 0.0002, 'epoch': 0.54}\n",
      "{'loss': 0.9071, 'grad_norm': 0.5042433738708496, 'learning_rate': 0.0002, 'epoch': 0.55}\n",
      "{'loss': 0.8821, 'grad_norm': 0.18091623485088348, 'learning_rate': 0.0002, 'epoch': 0.55}\n",
      "{'loss': 0.9548, 'grad_norm': 0.7484546303749084, 'learning_rate': 0.0002, 'epoch': 0.55}\n",
      "{'loss': 0.8251, 'grad_norm': 0.17899231612682343, 'learning_rate': 0.0002, 'epoch': 0.55}\n",
      "{'loss': 0.9432, 'grad_norm': 0.8085604310035706, 'learning_rate': 0.0002, 'epoch': 0.56}\n",
      "{'loss': 0.9271, 'grad_norm': 0.18541403114795685, 'learning_rate': 0.0002, 'epoch': 0.56}\n",
      "{'loss': 0.9402, 'grad_norm': 0.6206398010253906, 'learning_rate': 0.0002, 'epoch': 0.56}\n",
      "{'loss': 0.9215, 'grad_norm': 0.19536328315734863, 'learning_rate': 0.0002, 'epoch': 0.56}\n",
      "{'loss': 0.8833, 'grad_norm': 0.4756429195404053, 'learning_rate': 0.0002, 'epoch': 0.56}\n",
      "{'loss': 1.0037, 'grad_norm': 0.1595390886068344, 'learning_rate': 0.0002, 'epoch': 0.57}\n",
      "{'loss': 0.855, 'grad_norm': 0.8130165934562683, 'learning_rate': 0.0002, 'epoch': 0.57}\n",
      "{'loss': 0.863, 'grad_norm': 0.16568921506404877, 'learning_rate': 0.0002, 'epoch': 0.57}\n",
      "{'loss': 0.943, 'grad_norm': 0.7665693163871765, 'learning_rate': 0.0002, 'epoch': 0.57}\n",
      "{'loss': 0.9718, 'grad_norm': 0.1815584897994995, 'learning_rate': 0.0002, 'epoch': 0.58}\n",
      "{'loss': 0.8853, 'grad_norm': 0.5483242273330688, 'learning_rate': 0.0002, 'epoch': 0.58}\n",
      "{'loss': 0.967, 'grad_norm': 0.18747632205486298, 'learning_rate': 0.0002, 'epoch': 0.58}\n",
      "{'loss': 0.9105, 'grad_norm': 0.6053564548492432, 'learning_rate': 0.0002, 'epoch': 0.58}\n",
      "{'loss': 0.9865, 'grad_norm': 0.17128074169158936, 'learning_rate': 0.0002, 'epoch': 0.59}\n",
      "{'loss': 0.8298, 'grad_norm': 0.3980049788951874, 'learning_rate': 0.0002, 'epoch': 0.59}\n",
      "{'loss': 0.9519, 'grad_norm': 0.18285776674747467, 'learning_rate': 0.0002, 'epoch': 0.59}\n",
      "{'loss': 0.9544, 'grad_norm': 1.1445808410644531, 'learning_rate': 0.0002, 'epoch': 0.59}\n",
      "{'loss': 0.9433, 'grad_norm': 0.16244882345199585, 'learning_rate': 0.0002, 'epoch': 0.6}\n",
      "{'loss': 0.9326, 'grad_norm': 0.7913817167282104, 'learning_rate': 0.0002, 'epoch': 0.6}\n",
      "{'loss': 0.8912, 'grad_norm': 0.16521696746349335, 'learning_rate': 0.0002, 'epoch': 0.6}\n",
      "{'loss': 0.8929, 'grad_norm': 0.5225160121917725, 'learning_rate': 0.0002, 'epoch': 0.6}\n",
      "{'loss': 0.9395, 'grad_norm': 0.16945147514343262, 'learning_rate': 0.0002, 'epoch': 0.61}\n",
      "{'loss': 0.9179, 'grad_norm': 0.5072753429412842, 'learning_rate': 0.0002, 'epoch': 0.61}\n",
      "{'loss': 0.9321, 'grad_norm': 0.18221701681613922, 'learning_rate': 0.0002, 'epoch': 0.61}\n",
      "{'loss': 0.8637, 'grad_norm': 0.5503445267677307, 'learning_rate': 0.0002, 'epoch': 0.61}\n",
      "{'loss': 0.9104, 'grad_norm': 0.16132435202598572, 'learning_rate': 0.0002, 'epoch': 0.62}\n",
      "{'loss': 0.9398, 'grad_norm': 0.7780868411064148, 'learning_rate': 0.0002, 'epoch': 0.62}\n",
      "{'loss': 0.9328, 'grad_norm': 0.16113488376140594, 'learning_rate': 0.0002, 'epoch': 0.62}\n",
      "{'loss': 0.8464, 'grad_norm': 0.5365278124809265, 'learning_rate': 0.0002, 'epoch': 0.62}\n",
      "{'loss': 0.9461, 'grad_norm': 0.18457038700580597, 'learning_rate': 0.0002, 'epoch': 0.63}\n",
      "{'loss': 0.8456, 'grad_norm': 0.48690107464790344, 'learning_rate': 0.0002, 'epoch': 0.63}\n",
      "{'loss': 0.9649, 'grad_norm': 0.17006038129329681, 'learning_rate': 0.0002, 'epoch': 0.63}\n",
      "{'loss': 0.8675, 'grad_norm': nan, 'learning_rate': 0.0002, 'epoch': 0.64}\n",
      "{'loss': 1.0493, 'grad_norm': 0.17708832025527954, 'learning_rate': 0.0002, 'epoch': 0.64}\n",
      "{'loss': 0.8737, 'grad_norm': 0.6289100646972656, 'learning_rate': 0.0002, 'epoch': 0.64}\n",
      "{'loss': 0.9504, 'grad_norm': 0.17200163006782532, 'learning_rate': 0.0002, 'epoch': 0.64}\n",
      "{'loss': 0.8862, 'grad_norm': 0.5949751734733582, 'learning_rate': 0.0002, 'epoch': 0.65}\n",
      "{'loss': 0.9641, 'grad_norm': 0.17354971170425415, 'learning_rate': 0.0002, 'epoch': 0.65}\n",
      "{'loss': 0.9326, 'grad_norm': 0.6846174001693726, 'learning_rate': 0.0002, 'epoch': 0.65}\n",
      "{'loss': 0.8727, 'grad_norm': 0.17824096977710724, 'learning_rate': 0.0002, 'epoch': 0.65}\n",
      "{'loss': 0.891, 'grad_norm': 0.5190985798835754, 'learning_rate': 0.0002, 'epoch': 0.66}\n",
      "{'loss': 0.9804, 'grad_norm': 0.17645037174224854, 'learning_rate': 0.0002, 'epoch': 0.66}\n",
      "{'loss': 0.8497, 'grad_norm': 0.5538886189460754, 'learning_rate': 0.0002, 'epoch': 0.66}\n",
      "{'loss': 0.9576, 'grad_norm': 0.19610869884490967, 'learning_rate': 0.0002, 'epoch': 0.66}\n",
      "{'loss': 0.8358, 'grad_norm': 0.44791531562805176, 'learning_rate': 0.0002, 'epoch': 0.67}\n",
      "{'loss': 0.9703, 'grad_norm': 0.1554679125547409, 'learning_rate': 0.0002, 'epoch': 0.67}\n",
      "{'loss': 0.9388, 'grad_norm': 0.6402133703231812, 'learning_rate': 0.0002, 'epoch': 0.67}\n",
      "{'loss': 1.0377, 'grad_norm': 0.20206980407238007, 'learning_rate': 0.0002, 'epoch': 0.67}\n",
      "{'loss': 0.9765, 'grad_norm': 0.9875397086143494, 'learning_rate': 0.0002, 'epoch': 0.68}\n",
      "{'loss': 0.9106, 'grad_norm': 0.17126591503620148, 'learning_rate': 0.0002, 'epoch': 0.68}\n",
      "{'loss': 0.8921, 'grad_norm': 0.6837141513824463, 'learning_rate': 0.0002, 'epoch': 0.68}\n",
      "{'loss': 0.8754, 'grad_norm': 0.189344584941864, 'learning_rate': 0.0002, 'epoch': 0.68}\n",
      "{'loss': 0.8558, 'grad_norm': 1.0515497922897339, 'learning_rate': 0.0002, 'epoch': 0.69}\n",
      "{'loss': 0.9529, 'grad_norm': 0.1749449074268341, 'learning_rate': 0.0002, 'epoch': 0.69}\n",
      "{'loss': 0.896, 'grad_norm': 0.6071354746818542, 'learning_rate': 0.0002, 'epoch': 0.69}\n",
      "{'loss': 0.9312, 'grad_norm': 0.18292884528636932, 'learning_rate': 0.0002, 'epoch': 0.69}\n",
      "{'loss': 0.8876, 'grad_norm': nan, 'learning_rate': 0.0002, 'epoch': 0.69}\n",
      "{'loss': 1.0023, 'grad_norm': 0.17327187955379486, 'learning_rate': 0.0002, 'epoch': 0.7}\n",
      "{'loss': 0.9034, 'grad_norm': 0.6923970580101013, 'learning_rate': 0.0002, 'epoch': 0.7}\n",
      "{'loss': 0.9337, 'grad_norm': 0.1671680212020874, 'learning_rate': 0.0002, 'epoch': 0.7}\n",
      "{'loss': 0.9213, 'grad_norm': 0.5962586402893066, 'learning_rate': 0.0002, 'epoch': 0.7}\n",
      "{'loss': 0.9583, 'grad_norm': 0.17949602007865906, 'learning_rate': 0.0002, 'epoch': 0.71}\n",
      "{'loss': 0.8819, 'grad_norm': 0.6346273422241211, 'learning_rate': 0.0002, 'epoch': 0.71}\n",
      "{'loss': 1.0111, 'grad_norm': 0.16367392241954803, 'learning_rate': 0.0002, 'epoch': 0.71}\n",
      "{'loss': 1.0134, 'grad_norm': 0.9255533218383789, 'learning_rate': 0.0002, 'epoch': 0.71}\n",
      "{'loss': 0.9786, 'grad_norm': 0.18210674822330475, 'learning_rate': 0.0002, 'epoch': 0.72}\n",
      "{'loss': 0.8756, 'grad_norm': 0.6130886673927307, 'learning_rate': 0.0002, 'epoch': 0.72}\n",
      "{'loss': 0.9992, 'grad_norm': 0.18911626935005188, 'learning_rate': 0.0002, 'epoch': 0.72}\n",
      "{'loss': 0.896, 'grad_norm': 0.7793257236480713, 'learning_rate': 0.0002, 'epoch': 0.72}\n",
      "{'loss': 0.926, 'grad_norm': 0.18797841668128967, 'learning_rate': 0.0002, 'epoch': 0.73}\n",
      "{'loss': 0.8785, 'grad_norm': 0.6364346742630005, 'learning_rate': 0.0002, 'epoch': 0.73}\n",
      "{'loss': 0.8948, 'grad_norm': 0.16828393936157227, 'learning_rate': 0.0002, 'epoch': 0.73}\n",
      "{'loss': 0.9487, 'grad_norm': 0.6867016553878784, 'learning_rate': 0.0002, 'epoch': 0.73}\n",
      "{'loss': 0.8766, 'grad_norm': 0.18466168642044067, 'learning_rate': 0.0002, 'epoch': 0.74}\n",
      "{'loss': 0.8801, 'grad_norm': 0.6138403415679932, 'learning_rate': 0.0002, 'epoch': 0.74}\n",
      "{'loss': 0.8444, 'grad_norm': 0.1989549696445465, 'learning_rate': 0.0002, 'epoch': 0.74}\n",
      "{'loss': 0.9017, 'grad_norm': 0.43768447637557983, 'learning_rate': 0.0002, 'epoch': 0.74}\n",
      "{'loss': 0.9353, 'grad_norm': 0.1687244474887848, 'learning_rate': 0.0002, 'epoch': 0.75}\n",
      "{'loss': 0.9284, 'grad_norm': 0.7860745191574097, 'learning_rate': 0.0002, 'epoch': 0.75}\n",
      "{'loss': 0.9401, 'grad_norm': 0.18997110426425934, 'learning_rate': 0.0002, 'epoch': 0.75}\n",
      "{'loss': 0.8903, 'grad_norm': 0.5931161642074585, 'learning_rate': 0.0002, 'epoch': 0.76}\n",
      "{'loss': 0.9926, 'grad_norm': 0.20726624131202698, 'learning_rate': 0.0002, 'epoch': 0.76}\n",
      "{'loss': 0.9248, 'grad_norm': 0.6545441746711731, 'learning_rate': 0.0002, 'epoch': 0.76}\n",
      "{'loss': 0.9821, 'grad_norm': 0.25480008125305176, 'learning_rate': 0.0002, 'epoch': 0.76}\n",
      "{'loss': 0.9686, 'grad_norm': 1.0328234434127808, 'learning_rate': 0.0002, 'epoch': 0.77}\n",
      "{'loss': 0.879, 'grad_norm': 0.14962701499462128, 'learning_rate': 0.0002, 'epoch': 0.77}\n",
      "{'loss': 0.8798, 'grad_norm': 0.7034680247306824, 'learning_rate': 0.0002, 'epoch': 0.77}\n",
      "{'loss': 0.9307, 'grad_norm': 0.16955070197582245, 'learning_rate': 0.0002, 'epoch': 0.77}\n",
      "{'loss': 0.916, 'grad_norm': 1.065596103668213, 'learning_rate': 0.0002, 'epoch': 0.78}\n",
      "{'loss': 0.9222, 'grad_norm': 0.18027226626873016, 'learning_rate': 0.0002, 'epoch': 0.78}\n",
      "{'loss': 0.9173, 'grad_norm': 1.4714555740356445, 'learning_rate': 0.0002, 'epoch': 0.78}\n",
      "{'loss': 0.9917, 'grad_norm': 0.18239441514015198, 'learning_rate': 0.0002, 'epoch': 0.78}\n",
      "{'loss': 0.898, 'grad_norm': 0.517456591129303, 'learning_rate': 0.0002, 'epoch': 0.79}\n",
      "{'loss': 0.9155, 'grad_norm': 0.217670738697052, 'learning_rate': 0.0002, 'epoch': 0.79}\n",
      "{'loss': 0.8688, 'grad_norm': 0.5475726127624512, 'learning_rate': 0.0002, 'epoch': 0.79}\n",
      "{'loss': 0.918, 'grad_norm': 0.18946382403373718, 'learning_rate': 0.0002, 'epoch': 0.79}\n",
      "{'loss': 0.8633, 'grad_norm': 0.7255657911300659, 'learning_rate': 0.0002, 'epoch': 0.8}\n",
      "{'loss': 0.866, 'grad_norm': 0.18645444512367249, 'learning_rate': 0.0002, 'epoch': 0.8}\n",
      "{'loss': 0.8733, 'grad_norm': 0.5056295394897461, 'learning_rate': 0.0002, 'epoch': 0.8}\n",
      "{'loss': 0.8974, 'grad_norm': 0.18203817307949066, 'learning_rate': 0.0002, 'epoch': 0.8}\n",
      "{'loss': 0.8677, 'grad_norm': 0.6095141768455505, 'learning_rate': 0.0002, 'epoch': 0.81}\n",
      "{'loss': 1.0509, 'grad_norm': 0.19236193597316742, 'learning_rate': 0.0002, 'epoch': 0.81}\n",
      "{'loss': 0.9148, 'grad_norm': 1.3525644540786743, 'learning_rate': 0.0002, 'epoch': 0.81}\n",
      "{'loss': 1.0055, 'grad_norm': 0.18916131556034088, 'learning_rate': 0.0002, 'epoch': 0.81}\n",
      "{'loss': 0.8966, 'grad_norm': 0.8199710845947266, 'learning_rate': 0.0002, 'epoch': 0.81}\n",
      "{'loss': 0.9442, 'grad_norm': 0.1951441913843155, 'learning_rate': 0.0002, 'epoch': 0.82}\n",
      "{'loss': 0.9492, 'grad_norm': 0.6091954112052917, 'learning_rate': 0.0002, 'epoch': 0.82}\n",
      "{'loss': 0.9609, 'grad_norm': 0.1769188493490219, 'learning_rate': 0.0002, 'epoch': 0.82}\n",
      "{'loss': 0.9208, 'grad_norm': 0.9162861704826355, 'learning_rate': 0.0002, 'epoch': 0.82}\n",
      "{'loss': 0.9887, 'grad_norm': 0.20802035927772522, 'learning_rate': 0.0002, 'epoch': 0.83}\n",
      "{'loss': 0.8363, 'grad_norm': 0.5279651880264282, 'learning_rate': 0.0002, 'epoch': 0.83}\n",
      "{'loss': 0.8666, 'grad_norm': 0.1835375428199768, 'learning_rate': 0.0002, 'epoch': 0.83}\n",
      "{'loss': 0.8305, 'grad_norm': 0.5539934635162354, 'learning_rate': 0.0002, 'epoch': 0.83}\n",
      "{'loss': 0.9216, 'grad_norm': 0.20207300782203674, 'learning_rate': 0.0002, 'epoch': 0.84}\n",
      "{'loss': 0.9254, 'grad_norm': 0.7844143509864807, 'learning_rate': 0.0002, 'epoch': 0.84}\n",
      "{'loss': 0.8994, 'grad_norm': 0.18322011828422546, 'learning_rate': 0.0002, 'epoch': 0.84}\n",
      "{'loss': 0.9087, 'grad_norm': 0.6830234527587891, 'learning_rate': 0.0002, 'epoch': 0.84}\n",
      "{'loss': 0.9709, 'grad_norm': 0.2566700577735901, 'learning_rate': 0.0002, 'epoch': 0.85}\n",
      "{'loss': 0.8976, 'grad_norm': 0.5871272683143616, 'learning_rate': 0.0002, 'epoch': 0.85}\n",
      "{'loss': 0.9833, 'grad_norm': 0.20046353340148926, 'learning_rate': 0.0002, 'epoch': 0.85}\n",
      "{'loss': 0.9446, 'grad_norm': 0.8520637154579163, 'learning_rate': 0.0002, 'epoch': 0.85}\n",
      "{'loss': 0.92, 'grad_norm': 0.16517290472984314, 'learning_rate': 0.0002, 'epoch': 0.86}\n",
      "{'loss': 0.9125, 'grad_norm': 0.6205738186836243, 'learning_rate': 0.0002, 'epoch': 0.86}\n",
      "{'loss': 0.9475, 'grad_norm': 0.17634056508541107, 'learning_rate': 0.0002, 'epoch': 0.86}\n",
      "{'loss': 0.9743, 'grad_norm': nan, 'learning_rate': 0.0002, 'epoch': 0.86}\n",
      "{'loss': 0.8723, 'grad_norm': 0.17945894598960876, 'learning_rate': 0.0002, 'epoch': 0.87}\n",
      "{'loss': 0.928, 'grad_norm': 0.702457070350647, 'learning_rate': 0.0002, 'epoch': 0.87}\n",
      "{'loss': 0.9515, 'grad_norm': 0.18701902031898499, 'learning_rate': 0.0002, 'epoch': 0.87}\n",
      "{'loss': 0.9626, 'grad_norm': 1.8034521341323853, 'learning_rate': 0.0002, 'epoch': 0.88}\n",
      "{'loss': 1.0129, 'grad_norm': 0.1699250042438507, 'learning_rate': 0.0002, 'epoch': 0.88}\n",
      "{'loss': 0.8649, 'grad_norm': 1.4398291110992432, 'learning_rate': 0.0002, 'epoch': 0.88}\n",
      "{'loss': 0.9602, 'grad_norm': 0.22786056995391846, 'learning_rate': 0.0002, 'epoch': 0.88}\n",
      "{'loss': 0.9143, 'grad_norm': 0.6825014352798462, 'learning_rate': 0.0002, 'epoch': 0.89}\n",
      "{'loss': 0.9184, 'grad_norm': 0.16519026458263397, 'learning_rate': 0.0002, 'epoch': 0.89}\n",
      "{'loss': 0.8747, 'grad_norm': 1.3449418544769287, 'learning_rate': 0.0002, 'epoch': 0.89}\n",
      "{'loss': 0.9087, 'grad_norm': 0.1671295315027237, 'learning_rate': 0.0002, 'epoch': 0.89}\n",
      "{'loss': 0.8346, 'grad_norm': 0.8271273970603943, 'learning_rate': 0.0002, 'epoch': 0.9}\n",
      "{'loss': 0.9763, 'grad_norm': 0.17928583920001984, 'learning_rate': 0.0002, 'epoch': 0.9}\n",
      "{'loss': 0.8836, 'grad_norm': 0.6799443364143372, 'learning_rate': 0.0002, 'epoch': 0.9}\n",
      "{'loss': 0.9549, 'grad_norm': 0.1991557776927948, 'learning_rate': 0.0002, 'epoch': 0.9}\n",
      "{'loss': 0.8142, 'grad_norm': 1.6284645795822144, 'learning_rate': 0.0002, 'epoch': 0.91}\n",
      "{'loss': 0.9642, 'grad_norm': 0.1723521649837494, 'learning_rate': 0.0002, 'epoch': 0.91}\n",
      "{'loss': 0.8849, 'grad_norm': 0.9515684843063354, 'learning_rate': 0.0002, 'epoch': 0.91}\n",
      "{'loss': 0.9041, 'grad_norm': 0.3376927971839905, 'learning_rate': 0.0002, 'epoch': 0.91}\n",
      "{'loss': 0.86, 'grad_norm': 0.7406063079833984, 'learning_rate': 0.0002, 'epoch': 0.92}\n",
      "{'loss': 0.9478, 'grad_norm': 0.2091047763824463, 'learning_rate': 0.0002, 'epoch': 0.92}\n",
      "{'loss': 0.8889, 'grad_norm': 1.8721548318862915, 'learning_rate': 0.0002, 'epoch': 0.92}\n",
      "{'loss': 0.9085, 'grad_norm': 0.17120325565338135, 'learning_rate': 0.0002, 'epoch': 0.92}\n",
      "{'loss': 0.8514, 'grad_norm': 0.4665273427963257, 'learning_rate': 0.0002, 'epoch': 0.93}\n",
      "{'loss': 0.9156, 'grad_norm': 0.1937875896692276, 'learning_rate': 0.0002, 'epoch': 0.93}\n",
      "{'loss': 0.8687, 'grad_norm': 0.8680121898651123, 'learning_rate': 0.0002, 'epoch': 0.93}\n",
      "{'loss': 0.8956, 'grad_norm': 0.2061094045639038, 'learning_rate': 0.0002, 'epoch': 0.93}\n",
      "{'loss': 0.8947, 'grad_norm': 0.9933726191520691, 'learning_rate': 0.0002, 'epoch': 0.94}\n",
      "{'loss': 0.9171, 'grad_norm': 0.19053538143634796, 'learning_rate': 0.0002, 'epoch': 0.94}\n",
      "{'loss': 0.9059, 'grad_norm': 0.8791096210479736, 'learning_rate': 0.0002, 'epoch': 0.94}\n",
      "{'loss': 0.8716, 'grad_norm': 0.2057473063468933, 'learning_rate': 0.0002, 'epoch': 0.94}\n",
      "{'loss': 0.9404, 'grad_norm': 1.6940504312515259, 'learning_rate': 0.0002, 'epoch': 0.94}\n",
      "{'loss': 0.9229, 'grad_norm': 0.16823047399520874, 'learning_rate': 0.0002, 'epoch': 0.95}\n",
      "{'loss': 0.8754, 'grad_norm': 0.8294610977172852, 'learning_rate': 0.0002, 'epoch': 0.95}\n",
      "{'loss': 0.8728, 'grad_norm': 0.24883323907852173, 'learning_rate': 0.0002, 'epoch': 0.95}\n",
      "{'loss': 0.8487, 'grad_norm': 3.2656424045562744, 'learning_rate': 0.0002, 'epoch': 0.95}\n",
      "{'loss': 0.9547, 'grad_norm': 0.19104239344596863, 'learning_rate': 0.0002, 'epoch': 0.96}\n",
      "{'loss': 0.924, 'grad_norm': 0.7673139572143555, 'learning_rate': 0.0002, 'epoch': 0.96}\n",
      "{'loss': 0.8618, 'grad_norm': 0.17888028919696808, 'learning_rate': 0.0002, 'epoch': 0.96}\n",
      "{'loss': 0.9566, 'grad_norm': 0.8679395914077759, 'learning_rate': 0.0002, 'epoch': 0.96}\n",
      "{'loss': 0.9086, 'grad_norm': 0.15006569027900696, 'learning_rate': 0.0002, 'epoch': 0.97}\n",
      "{'loss': 0.8762, 'grad_norm': 0.555906355381012, 'learning_rate': 0.0002, 'epoch': 0.97}\n",
      "{'loss': 0.8814, 'grad_norm': 0.18685294687747955, 'learning_rate': 0.0002, 'epoch': 0.97}\n",
      "{'loss': 0.8735, 'grad_norm': 0.4058266282081604, 'learning_rate': 0.0002, 'epoch': 0.97}\n",
      "{'loss': 0.9453, 'grad_norm': 0.1942286193370819, 'learning_rate': 0.0002, 'epoch': 0.98}\n",
      "{'loss': 0.8863, 'grad_norm': 2.258617639541626, 'learning_rate': 0.0002, 'epoch': 0.98}\n",
      "{'loss': 0.8871, 'grad_norm': 0.21025674045085907, 'learning_rate': 0.0002, 'epoch': 0.98}\n",
      "{'loss': 0.904, 'grad_norm': 0.6984846591949463, 'learning_rate': 0.0002, 'epoch': 0.98}\n",
      "{'loss': 0.8729, 'grad_norm': 0.2616581320762634, 'learning_rate': 0.0002, 'epoch': 0.99}\n",
      "{'loss': 0.8947, 'grad_norm': 0.8359590172767639, 'learning_rate': 0.0002, 'epoch': 0.99}\n",
      "{'loss': 0.8902, 'grad_norm': 0.1865774542093277, 'learning_rate': 0.0002, 'epoch': 0.99}\n",
      "{'loss': 0.9036, 'grad_norm': 1.2092516422271729, 'learning_rate': 0.0002, 'epoch': 0.99}\n",
      "{'loss': 0.9307, 'grad_norm': 0.21747666597366333, 'learning_rate': 0.0002, 'epoch': 1.0}\n",
      "{'loss': 0.8399, 'grad_norm': 0.7714409828186035, 'learning_rate': 0.0002, 'epoch': 1.0}\n",
      "{'train_runtime': 12820.6696, 'train_samples_per_second': 3.12, 'train_steps_per_second': 0.78, 'train_loss': 0.9340546731948852, 'epoch': 1.0}\n"
     ]
    }
   ],
   "source": [
    "# start training, the model will be automatically saved to the hub and the output directory\n",
    "trainer.train()\n",
    "\n",
    "# save model\n",
    "trainer.save_model()"
   ]
  },
  {
   "cell_type": "code",
   "execution_count": 14,
   "metadata": {},
   "outputs": [
    {
     "data": {
      "application/vnd.jupyter.widget-view+json": {
       "model_id": "e6426296619347acb49628b93080e457",
       "version_major": 2,
       "version_minor": 0
      },
      "text/plain": [
       "Upload 8 LFS files:   0%|          | 0/8 [00:00<?, ?it/s]"
      ]
     },
     "metadata": {},
     "output_type": "display_data"
    },
    {
     "data": {
      "application/vnd.jupyter.widget-view+json": {
       "model_id": "3037c32d4606420daffc6344a6205688",
       "version_major": 2,
       "version_minor": 0
      },
      "text/plain": [
       "adapter_model.safetensors:   0%|          | 0.00/36.1M [00:00<?, ?B/s]"
      ]
     },
     "metadata": {},
     "output_type": "display_data"
    },
    {
     "data": {
      "application/vnd.jupyter.widget-view+json": {
       "model_id": "90b7aacf86cc48d5b4031867fcfea961",
       "version_major": 2,
       "version_minor": 0
      },
      "text/plain": [
       "events.out.tfevents.1713414465.helios.8602.0:   0%|          | 0.00/5.15k [00:00<?, ?B/s]"
      ]
     },
     "metadata": {},
     "output_type": "display_data"
    },
    {
     "data": {
      "application/vnd.jupyter.widget-view+json": {
       "model_id": "8d3ed09db7dc45a69d88b3c5a12a39bb",
       "version_major": 2,
       "version_minor": 0
      },
      "text/plain": [
       "events.out.tfevents.1713414705.helios.9028.0:   0%|          | 0.00/5.15k [00:00<?, ?B/s]"
      ]
     },
     "metadata": {},
     "output_type": "display_data"
    },
    {
     "data": {
      "application/vnd.jupyter.widget-view+json": {
       "model_id": "e2405593f1e44016a7f51c43507e80de",
       "version_major": 2,
       "version_minor": 0
      },
      "text/plain": [
       "events.out.tfevents.1713414787.helios.9547.0:   0%|          | 0.00/5.15k [00:00<?, ?B/s]"
      ]
     },
     "metadata": {},
     "output_type": "display_data"
    },
    {
     "data": {
      "application/vnd.jupyter.widget-view+json": {
       "model_id": "5f836feed84c45ab86e1816316f4c65b",
       "version_major": 2,
       "version_minor": 0
      },
      "text/plain": [
       "events.out.tfevents.1713414905.helios.5100.0:   0%|          | 0.00/5.15k [00:00<?, ?B/s]"
      ]
     },
     "metadata": {},
     "output_type": "display_data"
    },
    {
     "data": {
      "application/vnd.jupyter.widget-view+json": {
       "model_id": "13357555544f4e008d1cbf5cea425596",
       "version_major": 2,
       "version_minor": 0
      },
      "text/plain": [
       "events.out.tfevents.1713414939.helios.5551.0:   0%|          | 0.00/5.15k [00:00<?, ?B/s]"
      ]
     },
     "metadata": {},
     "output_type": "display_data"
    },
    {
     "data": {
      "application/vnd.jupyter.widget-view+json": {
       "model_id": "e5ae684663ed491a950aae5fb8526875",
       "version_major": 2,
       "version_minor": 0
      },
      "text/plain": [
       "events.out.tfevents.1713415047.helios.5749.0:   0%|          | 0.00/89.9k [00:00<?, ?B/s]"
      ]
     },
     "metadata": {},
     "output_type": "display_data"
    },
    {
     "data": {
      "application/vnd.jupyter.widget-view+json": {
       "model_id": "c9ef39ce62d543ab82d4da76954799ae",
       "version_major": 2,
       "version_minor": 0
      },
      "text/plain": [
       "training_args.bin:   0%|          | 0.00/4.92k [00:00<?, ?B/s]"
      ]
     },
     "metadata": {},
     "output_type": "display_data"
    },
    {
     "data": {
      "text/plain": [
       "CommitInfo(commit_url='https://huggingface.co/bgsmagnuson/tiny-llama-code-feedback/commit/fa28f0626aa8b0c1bdc1dbdbd217b352a8cf1c8d', commit_message='tiny-llama-code-feedback', commit_description='', oid='fa28f0626aa8b0c1bdc1dbdbd217b352a8cf1c8d', pr_url=None, pr_revision=None, pr_num=None)"
      ]
     },
     "execution_count": 14,
     "metadata": {},
     "output_type": "execute_result"
    }
   ],
   "source": [
    "trainer.push_to_hub(\"tiny-llama-code-feedback\")"
   ]
  },
  {
   "cell_type": "code",
   "execution_count": null,
   "metadata": {},
   "outputs": [],
   "source": []
  }
 ],
 "metadata": {
  "accelerator": "GPU",
  "colab": {
   "gpuType": "T4",
   "include_colab_link": true,
   "provenance": []
  },
  "kernelspec": {
   "display_name": "Python 3 (ipykernel)",
   "language": "python",
   "name": "python3"
  },
  "language_info": {
   "codemirror_mode": {
    "name": "ipython",
    "version": 3
   },
   "file_extension": ".py",
   "mimetype": "text/x-python",
   "name": "python",
   "nbconvert_exporter": "python",
   "pygments_lexer": "ipython3",
   "version": "3.10.12"
  }
 },
 "nbformat": 4,
 "nbformat_minor": 0
}
