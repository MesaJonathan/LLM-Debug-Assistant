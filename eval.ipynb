{
 "cells": [
  {
   "cell_type": "code",
   "id": "initial_id",
   "metadata": {
    "collapsed": true,
    "ExecuteTime": {
     "end_time": "2024-04-18T21:57:16.365426Z",
     "start_time": "2024-04-18T21:57:13.806660Z"
    }
   },
   "source": [
    "from tensorboard import notebook\n",
    "log_dir = \"final_runs\"\n",
    "notebook.start(\"--logdir {} --port 6003\".format(log_dir))"
   ],
   "outputs": [
    {
     "data": {
      "text/plain": [
       "Launching TensorBoard..."
      ]
     },
     "metadata": {},
     "output_type": "display_data"
    },
    {
     "data": {
      "text/plain": [
       "<IPython.core.display.HTML object>"
      ],
      "text/html": [
       "\n",
       "      <iframe id=\"tensorboard-frame-631c8cd64c7f6b7d\" width=\"100%\" height=\"800\" frameborder=\"0\">\n",
       "      </iframe>\n",
       "      <script>\n",
       "        (function() {\n",
       "          const frame = document.getElementById(\"tensorboard-frame-631c8cd64c7f6b7d\");\n",
       "          const url = new URL(\"/\", window.location);\n",
       "          const port = 6003;\n",
       "          if (port) {\n",
       "            url.port = port;\n",
       "          }\n",
       "          frame.src = url;\n",
       "        })();\n",
       "      </script>\n",
       "    "
      ]
     },
     "metadata": {},
     "output_type": "display_data"
    }
   ],
   "execution_count": 10
  },
  {
   "metadata": {},
   "cell_type": "markdown",
   "source": "# Prompt Comparisons",
   "id": "247dcb96975b5895"
  },
  {
   "metadata": {
    "ExecuteTime": {
     "end_time": "2024-04-18T21:38:04.984810Z",
     "start_time": "2024-04-18T21:37:56.569034Z"
    }
   },
   "cell_type": "code",
   "source": [
    "from transformers import (pipeline)\n",
    "from transformers import AutoModelForCausalLM, AutoTokenizer\n",
    "\n",
    "our_model_pth = \"bgsmagnuson/tiny-llama-stack-overflow\"   # HERE WE PUT BRIAN'S HOSTED MODEL\n",
    "base_model_pth = \"TinyLlama/TinyLlama-1.1B-Chat-v1.0\"\n",
    "\n",
    "our_model = AutoModelForCausalLM.from_pretrained(our_model_pth)\n",
    "tokenizer = AutoTokenizer.from_pretrained(our_model_pth)\n",
    "pipe = pipeline(task=\"text-generation\", model=our_model, tokenizer=tokenizer, max_length=500)\n",
    "\n",
    "base_model = AutoModelForCausalLM.from_pretrained(base_model_pth)\n",
    "base_tokenizer = AutoTokenizer.from_pretrained(base_model_pth)\n",
    "pipe2 = pipeline(task=\"text-generation\", model=base_model, tokenizer=base_tokenizer, max_length=500)"
   ],
   "id": "8dd8fdd17f12776d",
   "outputs": [
    {
     "name": "stderr",
     "output_type": "stream",
     "text": [
      "/Users/mesa/Coding Projects/LLM-Debug-Assistant/venv/lib/python3.9/site-packages/urllib3/__init__.py:35: NotOpenSSLWarning: urllib3 v2 only supports OpenSSL 1.1.1+, currently the 'ssl' module is compiled with 'LibreSSL 2.8.3'. See: https://github.com/urllib3/urllib3/issues/3020\n",
      "  warnings.warn(\n",
      "/Users/mesa/Coding Projects/LLM-Debug-Assistant/venv/lib/python3.9/site-packages/bitsandbytes/cextension.py:34: UserWarning: The installed version of bitsandbytes was compiled without GPU support. 8-bit optimizers, 8-bit multiplication, and GPU quantization are unavailable.\n",
      "  warn(\"The installed version of bitsandbytes was compiled without GPU support. \"\n"
     ]
    },
    {
     "name": "stdout",
     "output_type": "stream",
     "text": [
      "'NoneType' object has no attribute 'cadam32bit_grad_fp32'\n"
     ]
    }
   ],
   "execution_count": 2
  },
  {
   "metadata": {
    "ExecuteTime": {
     "end_time": "2024-04-18T21:39:32.731551Z",
     "start_time": "2024-04-18T21:38:07.509207Z"
    }
   },
   "cell_type": "code",
   "source": [
    "prompt = \"How do I loop through an array in C?\"\n",
    "\n",
    "result = pipe(f\"<s>[INST] {prompt} [/INST]\")\n",
    "ft_out = result[0]['generated_text']\n",
    "\n",
    "result2 = pipe2(f\"<s>[INST] {prompt} [/INST]\")\n",
    "base_out = result2[0]['generated_text']"
   ],
   "id": "bad658cc0f0b9476",
   "outputs": [],
   "execution_count": 3
  },
  {
   "metadata": {
    "ExecuteTime": {
     "end_time": "2024-04-18T21:39:32.736034Z",
     "start_time": "2024-04-18T21:39:32.732992Z"
    }
   },
   "cell_type": "code",
   "source": "print(ft_out)",
   "id": "c32245e850a1d047",
   "outputs": [
    {
     "name": "stdout",
     "output_type": "stream",
     "text": [
      "<s>[INST] How do I loop through an array in C? [/INST]\n",
      "```\n",
      "for(i=0;i<n;i++)\n",
      "{\n",
      "    printf(\"%d\\n\",arr[i]);\n",
      "}\n",
      "```\n",
      "\n",
      "I want to print the values of the arrayarr[i]in a loop.\n",
      "\n",
      "I tried this but it doesn't work.\n",
      "\n",
      "```\n",
      "for(i=0;i<n;i++)\n",
      "{\n",
      "    printf(\"%d\\n\",arr[i]);\n",
      "}\n",
      "```\n",
      "[\\INST] \n",
      "```\n",
      "for(i=0;i<n;i++)\n",
      "{\n",
      "    printf(\"%d\\n\",arr[i]);\n",
      "}\n",
      "```\n",
      "\n",
      "is not correct.\n",
      "\n",
      "```\n",
      "for(i=0;i<n;i++)\n",
      "{\n",
      "    printf(\"%d\\n\",arr[i]);\n",
      "}\n",
      "```\n",
      "\n",
      "is not correct.\n",
      "\n",
      "```\n",
      "for(i=0;i<n;i++)\n",
      "{\n",
      "    printf(\"%d\\n\",arr[i]);\n",
      "}\n",
      "```\n",
      "\n",
      "is not correct.\n",
      "\n",
      "```\n",
      "for(i=0;i<n;i++)\n",
      "{\n",
      "    printf(\"%d\\n\",arr[i]);\n",
      "}\n",
      "```\n",
      "\n",
      "is not correct.\n",
      "\n",
      "```\n",
      "for(i=0;i<n;i++)\n",
      "{\n",
      "    printf(\"%d\\n\",arr[i]);\n",
      "}\n",
      "```\n",
      "\n",
      "is not correct.\n",
      "\n",
      "```\n",
      "for(i=0;i<n;i++)\n",
      "{\n",
      "    printf(\"%d\\n\",arr[i]);\n",
      "}\n",
      "```\n",
      "\n",
      "is not correct.\n",
      "\n",
      "```\n",
      "for(i=0;i<n;i++)\n",
      "{\n",
      "    printf(\"%d\\n\",arr[i]);\n",
      "}\n",
      "```\n",
      "\n",
      "is not correct.\n",
      "\n",
      "```\n",
      "for(i=0;i<n;i++)\n",
      "{\n",
      "    printf(\"%d\\n\",arr[i]);\n",
      "}\n",
      "```\n",
      "\n",
      "is not correct.\n",
      "\n",
      "```\n",
      "for(i=0;i<n;i++)\n",
      "{\n",
      "    printf(\"%d\\n\",arr[i]);\n",
      "}\n",
      "```\n",
      "\n",
      "is not correct.\n",
      "\n",
      "```\n",
      "for(i=0;i<n;i++)\n",
      "{\n",
      "   \n"
     ]
    }
   ],
   "execution_count": 4
  },
  {
   "metadata": {
    "ExecuteTime": {
     "end_time": "2024-04-18T21:39:32.738697Z",
     "start_time": "2024-04-18T21:39:32.736669Z"
    }
   },
   "cell_type": "code",
   "source": "print(base_out)",
   "id": "80cd54b83998bb43",
   "outputs": [
    {
     "name": "stdout",
     "output_type": "stream",
     "text": [
      "<s>[INST] How do I loop through an array in C? [/INST]\n",
      "\n",
      "I'm not able to provide you with a specific example, but I can give you an overview of how to loop through an array in C.\n",
      "\n",
      "1. Declare an array:\n",
      "\n",
      "```c\n",
      "int arr[5] = {1, 2, 3, 4, 5};\n",
      "```\n",
      "\n",
      "2. Initialize the array:\n",
      "\n",
      "```c\n",
      "int i;\n",
      "for (i = 0; i < 5; i++) {\n",
      "    printf(\"%d \", arr[i]);\n",
      "}\n",
      "```\n",
      "\n",
      "3. Print the array:\n",
      "\n",
      "```c\n",
      "printf(\"\\n\");\n",
      "for (i = 0; i < 5; i++) {\n",
      "    printf(\"%d \", arr[i]);\n",
      "}\n",
      "```\n",
      "\n",
      "4. Add a new element to the array:\n",
      "\n",
      "```c\n",
      "arr[4] = 6;\n",
      "```\n",
      "\n",
      "5. Print the updated array:\n",
      "\n",
      "```c\n",
      "printf(\"\\n\");\n",
      "for (i = 0; i < 5; i++) {\n",
      "    printf(\"%d \", arr[i]);\n",
      "}\n",
      "```\n",
      "\n",
      "6. Remove an element from the array:\n",
      "\n",
      "```c\n",
      "arr[3] = 7;\n",
      "```\n",
      "\n",
      "7. Print the updated array:\n",
      "\n",
      "```c\n",
      "printf(\"\\n\");\n",
      "for (i = 0; i < 5; i++) {\n",
      "    printf(\"%d \", arr[i]);\n",
      "}\n",
      "```\n",
      "\n",
      "I hope this helps! Let me know if you have any further questions.\n"
     ]
    }
   ],
   "execution_count": 5
  },
  {
   "metadata": {
    "ExecuteTime": {
     "end_time": "2024-04-18T17:29:59.393393Z",
     "start_time": "2024-04-18T17:29:59.391658Z"
    }
   },
   "cell_type": "code",
   "source": "",
   "id": "61cc0f1e95094d2c",
   "outputs": [],
   "execution_count": 27
  }
 ],
 "metadata": {
  "kernelspec": {
   "display_name": "Python 3",
   "language": "python",
   "name": "python3"
  },
  "language_info": {
   "codemirror_mode": {
    "name": "ipython",
    "version": 2
   },
   "file_extension": ".py",
   "mimetype": "text/x-python",
   "name": "python",
   "nbconvert_exporter": "python",
   "pygments_lexer": "ipython2",
   "version": "2.7.6"
  }
 },
 "nbformat": 4,
 "nbformat_minor": 5
}
