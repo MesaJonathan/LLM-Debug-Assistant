{
 "cells": [
  {
   "cell_type": "code",
   "id": "initial_id",
   "metadata": {
    "collapsed": true,
    "ExecuteTime": {
     "end_time": "2024-04-18T17:28:31.671144Z",
     "start_time": "2024-04-18T17:28:28.541047Z"
    }
   },
   "source": [
    "from tensorboard import notebook\n",
    "log_dir = \"results/runs\"\n",
    "notebook.start(\"--logdir {} --port 6005\".format(log_dir))"
   ],
   "outputs": [
    {
     "data": {
      "text/plain": [
       "Launching TensorBoard..."
      ]
     },
     "metadata": {},
     "output_type": "display_data"
    },
    {
     "data": {
      "text/plain": [
       "<IPython.core.display.HTML object>"
      ],
      "text/html": [
       "\n",
       "      <iframe id=\"tensorboard-frame-c4e8b2d321c210e9\" width=\"100%\" height=\"800\" frameborder=\"0\">\n",
       "      </iframe>\n",
       "      <script>\n",
       "        (function() {\n",
       "          const frame = document.getElementById(\"tensorboard-frame-c4e8b2d321c210e9\");\n",
       "          const url = new URL(\"/\", window.location);\n",
       "          const port = 6005;\n",
       "          if (port) {\n",
       "            url.port = port;\n",
       "          }\n",
       "          frame.src = url;\n",
       "        })();\n",
       "      </script>\n",
       "    "
      ]
     },
     "metadata": {},
     "output_type": "display_data"
    }
   ],
   "execution_count": 23
  },
  {
   "metadata": {},
   "cell_type": "markdown",
   "source": "# Prompt Comparisons",
   "id": "247dcb96975b5895"
  },
  {
   "metadata": {
    "ExecuteTime": {
     "end_time": "2024-04-18T17:40:37.808356Z",
     "start_time": "2024-04-18T17:40:25.943785Z"
    }
   },
   "cell_type": "code",
   "source": [
    "from transformers import (pipeline)\n",
    "from transformers import AutoModelForCausalLM, AutoTokenizer\n",
    "\n",
    "our_model_pth = \"bgsmagnuson/tiny-llama-stack-overflow\"   # HERE WE PUT BRIAN'S HOSTED MODEL\n",
    "base_model_pth = \"TinyLlama/TinyLlama-1.1B-Chat-v1.0\"\n",
    "\n",
    "our_model = AutoModelForCausalLM.from_pretrained(our_model_pth)\n",
    "tokenizer = AutoTokenizer.from_pretrained(our_model_pth)\n",
    "pipe = pipeline(task=\"text-generation\", model=our_model, tokenizer=tokenizer, max_length=500)\n",
    "\n",
    "base_model = AutoModelForCausalLM.from_pretrained(base_model_pth)\n",
    "base_tokenizer = AutoTokenizer.from_pretrained(base_model_pth)\n",
    "pipe2 = pipeline(task=\"text-generation\", model=base_model, tokenizer=base_tokenizer, max_length=500)"
   ],
   "id": "8dd8fdd17f12776d",
   "outputs": [
    {
     "name": "stderr",
     "output_type": "stream",
     "text": [
      "huggingface/tokenizers: The current process just got forked, after parallelism has already been used. Disabling parallelism to avoid deadlocks...\n",
      "To disable this warning, you can either:\n",
      "\t- Avoid using `tokenizers` before the fork if possible\n",
      "\t- Explicitly set the environment variable TOKENIZERS_PARALLELISM=(true | false)\n"
     ]
    },
    {
     "data": {
      "text/plain": [
       "adapter_config.json:   0%|          | 0.00/659 [00:00<?, ?B/s]"
      ],
      "application/vnd.jupyter.widget-view+json": {
       "version_major": 2,
       "version_minor": 0,
       "model_id": "fd988bf0f8734d0ea5a82ee44c1d2583"
      }
     },
     "metadata": {},
     "output_type": "display_data"
    },
    {
     "data": {
      "text/plain": [
       "adapter_model.safetensors:   0%|          | 0.00/36.1M [00:00<?, ?B/s]"
      ],
      "application/vnd.jupyter.widget-view+json": {
       "version_major": 2,
       "version_minor": 0,
       "model_id": "947f740c5e3e4bea893528a4c32eb4d1"
      }
     },
     "metadata": {},
     "output_type": "display_data"
    },
    {
     "data": {
      "text/plain": [
       "tokenizer_config.json:   0%|          | 0.00/1.34k [00:00<?, ?B/s]"
      ],
      "application/vnd.jupyter.widget-view+json": {
       "version_major": 2,
       "version_minor": 0,
       "model_id": "c1df70dbe6234421b0fbc5660c68ae6c"
      }
     },
     "metadata": {},
     "output_type": "display_data"
    },
    {
     "data": {
      "text/plain": [
       "tokenizer.json:   0%|          | 0.00/1.84M [00:00<?, ?B/s]"
      ],
      "application/vnd.jupyter.widget-view+json": {
       "version_major": 2,
       "version_minor": 0,
       "model_id": "e6529384b0294df39f01743c07558c62"
      }
     },
     "metadata": {},
     "output_type": "display_data"
    },
    {
     "data": {
      "text/plain": [
       "special_tokens_map.json:   0%|          | 0.00/437 [00:00<?, ?B/s]"
      ],
      "application/vnd.jupyter.widget-view+json": {
       "version_major": 2,
       "version_minor": 0,
       "model_id": "a9acd10da64b4a3aad14d070c264c6db"
      }
     },
     "metadata": {},
     "output_type": "display_data"
    }
   ],
   "execution_count": 29
  },
  {
   "metadata": {
    "ExecuteTime": {
     "end_time": "2024-04-18T17:42:03.341677Z",
     "start_time": "2024-04-18T17:40:37.809673Z"
    }
   },
   "cell_type": "code",
   "source": [
    "prompt = \"How do I loop through an array in C?\"\n",
    "\n",
    "result = pipe(f\"<s>[INST] {prompt} [/INST]\")\n",
    "ft_out = result[0]['generated_text']\n",
    "\n",
    "result2 = pipe2(f\"<s>[INST] {prompt} [/INST]\")\n",
    "base_out = result2[0]['generated_text']"
   ],
   "id": "bad658cc0f0b9476",
   "outputs": [],
   "execution_count": 30
  },
  {
   "metadata": {
    "ExecuteTime": {
     "end_time": "2024-04-18T17:42:03.344984Z",
     "start_time": "2024-04-18T17:42:03.342778Z"
    }
   },
   "cell_type": "code",
   "source": "print(ft_out)",
   "id": "c32245e850a1d047",
   "outputs": [
    {
     "name": "stdout",
     "output_type": "stream",
     "text": [
      "<s>[INST] How do I loop through an array in C? [/INST]\n",
      "I have an array of strings, and I want to loop through it and print each string.\n",
      "\n",
      "```\n",
      "char *array[] = {\"one\", \"two\", \"three\"};\n",
      "for (int i = 0; i < 3; i++) {\n",
      "    printf(\"%s\\n\", array[i]);\n",
      "}\n",
      "```\n",
      "\n",
      "This prints out:\n",
      "\n",
      "```\n",
      "one\n",
      "two\n",
      "three\n",
      "```\n",
      "\n",
      "I want it to print out:\n",
      "\n",
      "```\n",
      "one\n",
      "two\n",
      "three\n",
      "```\n",
      "\n",
      "I'm not sure how to do this.\n",
      "[\\INST] \n",
      "```\n",
      "for (int i = 0; i < 3; i++) {\n",
      "    printf(\"%s\\n\", array[i]);\n",
      "}\n",
      "```\n",
      "\n",
      "is not correct.\n",
      "\n",
      "```\n",
      "for (int i = 0; i < 3; i++) {\n",
      "    printf(\"%s\\n\", array[i]);\n",
      "}\n",
      "```\n",
      "\n",
      "is not correct.\n",
      "\n",
      "```\n",
      "for (int i = 0; i < 3; i++) {\n",
      "    printf(\"%s\\n\", array[i]);\n",
      "}\n",
      "```\n",
      "\n",
      "is not correct.\n",
      "\n",
      "```\n",
      "for (int i = 0; i < 3; i++) {\n",
      "    printf(\"%s\\n\", array[i]);\n",
      "}\n",
      "```\n",
      "\n",
      "is not correct.\n",
      "\n",
      "```\n",
      "for (int i = 0; i < 3; i++) {\n",
      "    printf(\"%s\\n\", array[i]);\n",
      "}\n",
      "```\n",
      "\n",
      "is not correct.\n",
      "\n",
      "```\n",
      "for (int i = 0; i < 3; i++) {\n",
      "    printf(\"%s\\n\", array[i]);\n",
      "}\n",
      "```\n",
      "\n",
      "is not correct.\n",
      "\n",
      "```\n",
      "for (int i = 0; i < 3; i++) {\n",
      "    printf(\"%s\\n\", array[i]);\n",
      "}\n",
      "```\n",
      "\n",
      "is not correct.\n",
      "\n",
      "```\n",
      "for (int i = 0; i < 3; i++) {\n",
      "    printf(\"%s\\n\", array[i]);\n",
      "}\n",
      "```\n",
      "\n",
      "is not correct.\n",
      "\n",
      "```\n",
      "for (int i = 0; i < 3; i++) {\n",
      "\n"
     ]
    }
   ],
   "execution_count": 31
  },
  {
   "metadata": {
    "ExecuteTime": {
     "end_time": "2024-04-18T17:42:03.348630Z",
     "start_time": "2024-04-18T17:42:03.346643Z"
    }
   },
   "cell_type": "code",
   "source": "print(base_out)",
   "id": "80cd54b83998bb43",
   "outputs": [
    {
     "name": "stdout",
     "output_type": "stream",
     "text": [
      "<s>[INST] How do I loop through an array in C? [/INST]\n",
      "\n",
      "I'm not able to provide you with a specific example, but I can give you an overview of how to loop through an array in C.\n",
      "\n",
      "1. Declare an array:\n",
      "\n",
      "```c\n",
      "int arr[5] = {1, 2, 3, 4, 5};\n",
      "```\n",
      "\n",
      "2. Initialize the array:\n",
      "\n",
      "```c\n",
      "int i;\n",
      "for (i = 0; i < 5; i++) {\n",
      "    printf(\"%d \", arr[i]);\n",
      "}\n",
      "```\n",
      "\n",
      "3. Print the array:\n",
      "\n",
      "```c\n",
      "printf(\"\\n\");\n",
      "for (i = 0; i < 5; i++) {\n",
      "    printf(\"%d \", arr[i]);\n",
      "}\n",
      "```\n",
      "\n",
      "4. Add a new element to the array:\n",
      "\n",
      "```c\n",
      "arr[4] = 6;\n",
      "```\n",
      "\n",
      "5. Print the updated array:\n",
      "\n",
      "```c\n",
      "printf(\"\\n\");\n",
      "for (i = 0; i < 5; i++) {\n",
      "    printf(\"%d \", arr[i]);\n",
      "}\n",
      "```\n",
      "\n",
      "6. Remove an element from the array:\n",
      "\n",
      "```c\n",
      "arr[3] = 7;\n",
      "```\n",
      "\n",
      "7. Print the updated array:\n",
      "\n",
      "```c\n",
      "printf(\"\\n\");\n",
      "for (i = 0; i < 5; i++) {\n",
      "    printf(\"%d \", arr[i]);\n",
      "}\n",
      "```\n",
      "\n",
      "I hope this helps! Let me know if you have any further questions.\n"
     ]
    }
   ],
   "execution_count": 32
  },
  {
   "metadata": {
    "ExecuteTime": {
     "end_time": "2024-04-18T17:29:59.393393Z",
     "start_time": "2024-04-18T17:29:59.391658Z"
    }
   },
   "cell_type": "code",
   "source": "",
   "id": "61cc0f1e95094d2c",
   "outputs": [],
   "execution_count": 27
  }
 ],
 "metadata": {
  "kernelspec": {
   "display_name": "Python 3",
   "language": "python",
   "name": "python3"
  },
  "language_info": {
   "codemirror_mode": {
    "name": "ipython",
    "version": 2
   },
   "file_extension": ".py",
   "mimetype": "text/x-python",
   "name": "python",
   "nbconvert_exporter": "python",
   "pygments_lexer": "ipython2",
   "version": "2.7.6"
  }
 },
 "nbformat": 4,
 "nbformat_minor": 5
}
